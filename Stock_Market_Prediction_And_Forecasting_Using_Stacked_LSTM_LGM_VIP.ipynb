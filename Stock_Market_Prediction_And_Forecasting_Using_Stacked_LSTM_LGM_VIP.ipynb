{
  "nbformat": 4,
  "nbformat_minor": 0,
  "metadata": {
    "colab": {
      "provenance": []
    },
    "kernelspec": {
      "name": "python3",
      "display_name": "Python 3"
    },
    "language_info": {
      "name": "python"
    }
  },
  "cells": [
    {
      "cell_type": "markdown",
      "source": [
        "# **Machine Learning Project**:\n",
        "\n",
        "## **Stock Market Prediction And Forecasting Using Stacked LSTM**\n",
        "\n",
        "### by- Soumyajit Das\n",
        "◼ Editor used- **Google Colab**\n",
        "\n",
        "\n",
        "\n",
        "*   [LinkedIn](https://www.linkedin.com/in/soumyajit-das-40a1851b8/)\n",
        "*   [Github](https://github.com/Soumyajit9696)\n",
        "\n",
        "▶ At first we upload the dataset in google colab, then we laod the data.The dataset is -[Dataset](https://raw.githubusercontent.com/mwitiderrick/stockprice/master/NSE-TATAGLOBAL.csv)\n",
        "\n",
        "\n"
      ],
      "metadata": {
        "id": "rgETKtgIE2A6"
      }
    },
    {
      "cell_type": "code",
      "source": [
        "import pandas as pd\n",
        "import numpy as np\n",
        "import seaborn as sns\n",
        "import matplotlib.pyplot as plt\n",
        "%matplotlib inline"
      ],
      "metadata": {
        "id": "ZME8xM4WGKa_"
      },
      "execution_count": 4,
      "outputs": []
    },
    {
      "cell_type": "code",
      "source": [
        "df = pd.read_csv('Stock_prediction_Dataset.csv')\n",
        "df.head()"
      ],
      "metadata": {
        "colab": {
          "base_uri": "https://localhost:8080/",
          "height": 206
        },
        "id": "ueQiaNByHTyN",
        "outputId": "d9e75795-8c7c-45f7-a507-9098a6dabf3b"
      },
      "execution_count": 5,
      "outputs": [
        {
          "output_type": "execute_result",
          "data": {
            "text/plain": [
              "         Date    Open    High     Low    Last   Close  Total Trade Quantity  \\\n",
              "0  2018-09-28  234.05  235.95  230.20  233.50  233.75               3069914   \n",
              "1  2018-09-27  234.55  236.80  231.10  233.80  233.25               5082859   \n",
              "2  2018-09-26  240.00  240.00  232.50  235.00  234.25               2240909   \n",
              "3  2018-09-25  233.30  236.75  232.00  236.25  236.10               2349368   \n",
              "4  2018-09-24  233.55  239.20  230.75  234.00  233.30               3423509   \n",
              "\n",
              "   Turnover (Lacs)  \n",
              "0          7162.35  \n",
              "1         11859.95  \n",
              "2          5248.60  \n",
              "3          5503.90  \n",
              "4          7999.55  "
            ],
            "text/html": [
              "\n",
              "  <div id=\"df-53e1391e-1612-4501-9e90-4762d99b2952\" class=\"colab-df-container\">\n",
              "    <div>\n",
              "<style scoped>\n",
              "    .dataframe tbody tr th:only-of-type {\n",
              "        vertical-align: middle;\n",
              "    }\n",
              "\n",
              "    .dataframe tbody tr th {\n",
              "        vertical-align: top;\n",
              "    }\n",
              "\n",
              "    .dataframe thead th {\n",
              "        text-align: right;\n",
              "    }\n",
              "</style>\n",
              "<table border=\"1\" class=\"dataframe\">\n",
              "  <thead>\n",
              "    <tr style=\"text-align: right;\">\n",
              "      <th></th>\n",
              "      <th>Date</th>\n",
              "      <th>Open</th>\n",
              "      <th>High</th>\n",
              "      <th>Low</th>\n",
              "      <th>Last</th>\n",
              "      <th>Close</th>\n",
              "      <th>Total Trade Quantity</th>\n",
              "      <th>Turnover (Lacs)</th>\n",
              "    </tr>\n",
              "  </thead>\n",
              "  <tbody>\n",
              "    <tr>\n",
              "      <th>0</th>\n",
              "      <td>2018-09-28</td>\n",
              "      <td>234.05</td>\n",
              "      <td>235.95</td>\n",
              "      <td>230.20</td>\n",
              "      <td>233.50</td>\n",
              "      <td>233.75</td>\n",
              "      <td>3069914</td>\n",
              "      <td>7162.35</td>\n",
              "    </tr>\n",
              "    <tr>\n",
              "      <th>1</th>\n",
              "      <td>2018-09-27</td>\n",
              "      <td>234.55</td>\n",
              "      <td>236.80</td>\n",
              "      <td>231.10</td>\n",
              "      <td>233.80</td>\n",
              "      <td>233.25</td>\n",
              "      <td>5082859</td>\n",
              "      <td>11859.95</td>\n",
              "    </tr>\n",
              "    <tr>\n",
              "      <th>2</th>\n",
              "      <td>2018-09-26</td>\n",
              "      <td>240.00</td>\n",
              "      <td>240.00</td>\n",
              "      <td>232.50</td>\n",
              "      <td>235.00</td>\n",
              "      <td>234.25</td>\n",
              "      <td>2240909</td>\n",
              "      <td>5248.60</td>\n",
              "    </tr>\n",
              "    <tr>\n",
              "      <th>3</th>\n",
              "      <td>2018-09-25</td>\n",
              "      <td>233.30</td>\n",
              "      <td>236.75</td>\n",
              "      <td>232.00</td>\n",
              "      <td>236.25</td>\n",
              "      <td>236.10</td>\n",
              "      <td>2349368</td>\n",
              "      <td>5503.90</td>\n",
              "    </tr>\n",
              "    <tr>\n",
              "      <th>4</th>\n",
              "      <td>2018-09-24</td>\n",
              "      <td>233.55</td>\n",
              "      <td>239.20</td>\n",
              "      <td>230.75</td>\n",
              "      <td>234.00</td>\n",
              "      <td>233.30</td>\n",
              "      <td>3423509</td>\n",
              "      <td>7999.55</td>\n",
              "    </tr>\n",
              "  </tbody>\n",
              "</table>\n",
              "</div>\n",
              "    <div class=\"colab-df-buttons\">\n",
              "\n",
              "  <div class=\"colab-df-container\">\n",
              "    <button class=\"colab-df-convert\" onclick=\"convertToInteractive('df-53e1391e-1612-4501-9e90-4762d99b2952')\"\n",
              "            title=\"Convert this dataframe to an interactive table.\"\n",
              "            style=\"display:none;\">\n",
              "\n",
              "  <svg xmlns=\"http://www.w3.org/2000/svg\" height=\"24px\" viewBox=\"0 -960 960 960\">\n",
              "    <path d=\"M120-120v-720h720v720H120Zm60-500h600v-160H180v160Zm220 220h160v-160H400v160Zm0 220h160v-160H400v160ZM180-400h160v-160H180v160Zm440 0h160v-160H620v160ZM180-180h160v-160H180v160Zm440 0h160v-160H620v160Z\"/>\n",
              "  </svg>\n",
              "    </button>\n",
              "\n",
              "  <style>\n",
              "    .colab-df-container {\n",
              "      display:flex;\n",
              "      gap: 12px;\n",
              "    }\n",
              "\n",
              "    .colab-df-convert {\n",
              "      background-color: #E8F0FE;\n",
              "      border: none;\n",
              "      border-radius: 50%;\n",
              "      cursor: pointer;\n",
              "      display: none;\n",
              "      fill: #1967D2;\n",
              "      height: 32px;\n",
              "      padding: 0 0 0 0;\n",
              "      width: 32px;\n",
              "    }\n",
              "\n",
              "    .colab-df-convert:hover {\n",
              "      background-color: #E2EBFA;\n",
              "      box-shadow: 0px 1px 2px rgba(60, 64, 67, 0.3), 0px 1px 3px 1px rgba(60, 64, 67, 0.15);\n",
              "      fill: #174EA6;\n",
              "    }\n",
              "\n",
              "    .colab-df-buttons div {\n",
              "      margin-bottom: 4px;\n",
              "    }\n",
              "\n",
              "    [theme=dark] .colab-df-convert {\n",
              "      background-color: #3B4455;\n",
              "      fill: #D2E3FC;\n",
              "    }\n",
              "\n",
              "    [theme=dark] .colab-df-convert:hover {\n",
              "      background-color: #434B5C;\n",
              "      box-shadow: 0px 1px 3px 1px rgba(0, 0, 0, 0.15);\n",
              "      filter: drop-shadow(0px 1px 2px rgba(0, 0, 0, 0.3));\n",
              "      fill: #FFFFFF;\n",
              "    }\n",
              "  </style>\n",
              "\n",
              "    <script>\n",
              "      const buttonEl =\n",
              "        document.querySelector('#df-53e1391e-1612-4501-9e90-4762d99b2952 button.colab-df-convert');\n",
              "      buttonEl.style.display =\n",
              "        google.colab.kernel.accessAllowed ? 'block' : 'none';\n",
              "\n",
              "      async function convertToInteractive(key) {\n",
              "        const element = document.querySelector('#df-53e1391e-1612-4501-9e90-4762d99b2952');\n",
              "        const dataTable =\n",
              "          await google.colab.kernel.invokeFunction('convertToInteractive',\n",
              "                                                    [key], {});\n",
              "        if (!dataTable) return;\n",
              "\n",
              "        const docLinkHtml = 'Like what you see? Visit the ' +\n",
              "          '<a target=\"_blank\" href=https://colab.research.google.com/notebooks/data_table.ipynb>data table notebook</a>'\n",
              "          + ' to learn more about interactive tables.';\n",
              "        element.innerHTML = '';\n",
              "        dataTable['output_type'] = 'display_data';\n",
              "        await google.colab.output.renderOutput(dataTable, element);\n",
              "        const docLink = document.createElement('div');\n",
              "        docLink.innerHTML = docLinkHtml;\n",
              "        element.appendChild(docLink);\n",
              "      }\n",
              "    </script>\n",
              "  </div>\n",
              "\n",
              "\n",
              "<div id=\"df-191e0730-70b8-4c05-9c6f-e568b69962d8\">\n",
              "  <button class=\"colab-df-quickchart\" onclick=\"quickchart('df-191e0730-70b8-4c05-9c6f-e568b69962d8')\"\n",
              "            title=\"Suggest charts.\"\n",
              "            style=\"display:none;\">\n",
              "\n",
              "<svg xmlns=\"http://www.w3.org/2000/svg\" height=\"24px\"viewBox=\"0 0 24 24\"\n",
              "     width=\"24px\">\n",
              "    <g>\n",
              "        <path d=\"M19 3H5c-1.1 0-2 .9-2 2v14c0 1.1.9 2 2 2h14c1.1 0 2-.9 2-2V5c0-1.1-.9-2-2-2zM9 17H7v-7h2v7zm4 0h-2V7h2v10zm4 0h-2v-4h2v4z\"/>\n",
              "    </g>\n",
              "</svg>\n",
              "  </button>\n",
              "\n",
              "<style>\n",
              "  .colab-df-quickchart {\n",
              "    background-color: #E8F0FE;\n",
              "    border: none;\n",
              "    border-radius: 50%;\n",
              "    cursor: pointer;\n",
              "    display: none;\n",
              "    fill: #1967D2;\n",
              "    height: 32px;\n",
              "    padding: 0 0 0 0;\n",
              "    width: 32px;\n",
              "  }\n",
              "\n",
              "  .colab-df-quickchart:hover {\n",
              "    background-color: #E2EBFA;\n",
              "    box-shadow: 0px 1px 2px rgba(60, 64, 67, 0.3), 0px 1px 3px 1px rgba(60, 64, 67, 0.15);\n",
              "    fill: #174EA6;\n",
              "  }\n",
              "\n",
              "  [theme=dark] .colab-df-quickchart {\n",
              "    background-color: #3B4455;\n",
              "    fill: #D2E3FC;\n",
              "  }\n",
              "\n",
              "  [theme=dark] .colab-df-quickchart:hover {\n",
              "    background-color: #434B5C;\n",
              "    box-shadow: 0px 1px 3px 1px rgba(0, 0, 0, 0.15);\n",
              "    filter: drop-shadow(0px 1px 2px rgba(0, 0, 0, 0.3));\n",
              "    fill: #FFFFFF;\n",
              "  }\n",
              "</style>\n",
              "\n",
              "  <script>\n",
              "    async function quickchart(key) {\n",
              "      const charts = await google.colab.kernel.invokeFunction(\n",
              "          'suggestCharts', [key], {});\n",
              "    }\n",
              "    (() => {\n",
              "      let quickchartButtonEl =\n",
              "        document.querySelector('#df-191e0730-70b8-4c05-9c6f-e568b69962d8 button');\n",
              "      quickchartButtonEl.style.display =\n",
              "        google.colab.kernel.accessAllowed ? 'block' : 'none';\n",
              "    })();\n",
              "  </script>\n",
              "</div>\n",
              "    </div>\n",
              "  </div>\n"
            ]
          },
          "metadata": {},
          "execution_count": 5
        }
      ]
    },
    {
      "cell_type": "code",
      "source": [
        "df.describe()"
      ],
      "metadata": {
        "colab": {
          "base_uri": "https://localhost:8080/",
          "height": 300
        },
        "id": "U9XWMbGoI4qm",
        "outputId": "f1c83fa1-7254-4f6d-e66d-e38856867cb9"
      },
      "execution_count": 6,
      "outputs": [
        {
          "output_type": "execute_result",
          "data": {
            "text/plain": [
              "              Open         High          Low         Last       Close  \\\n",
              "count  2035.000000  2035.000000  2035.000000  2035.000000  2035.00000   \n",
              "mean    149.713735   151.992826   147.293931   149.474251   149.45027   \n",
              "std      48.664509    49.413109    47.931958    48.732570    48.71204   \n",
              "min      81.100000    82.800000    80.000000    81.000000    80.95000   \n",
              "25%     120.025000   122.100000   118.300000   120.075000   120.05000   \n",
              "50%     141.500000   143.400000   139.600000   141.100000   141.25000   \n",
              "75%     157.175000   159.400000   155.150000   156.925000   156.90000   \n",
              "max     327.700000   328.750000   321.650000   325.950000   325.75000   \n",
              "\n",
              "       Total Trade Quantity  Turnover (Lacs)  \n",
              "count          2.035000e+03      2035.000000  \n",
              "mean           2.335681e+06      3899.980565  \n",
              "std            2.091778e+06      4570.767877  \n",
              "min            3.961000e+04        37.040000  \n",
              "25%            1.146444e+06      1427.460000  \n",
              "50%            1.783456e+06      2512.030000  \n",
              "75%            2.813594e+06      4539.015000  \n",
              "max            2.919102e+07     55755.080000  "
            ],
            "text/html": [
              "\n",
              "  <div id=\"df-5203b4e9-2f53-4331-a67a-435483617561\" class=\"colab-df-container\">\n",
              "    <div>\n",
              "<style scoped>\n",
              "    .dataframe tbody tr th:only-of-type {\n",
              "        vertical-align: middle;\n",
              "    }\n",
              "\n",
              "    .dataframe tbody tr th {\n",
              "        vertical-align: top;\n",
              "    }\n",
              "\n",
              "    .dataframe thead th {\n",
              "        text-align: right;\n",
              "    }\n",
              "</style>\n",
              "<table border=\"1\" class=\"dataframe\">\n",
              "  <thead>\n",
              "    <tr style=\"text-align: right;\">\n",
              "      <th></th>\n",
              "      <th>Open</th>\n",
              "      <th>High</th>\n",
              "      <th>Low</th>\n",
              "      <th>Last</th>\n",
              "      <th>Close</th>\n",
              "      <th>Total Trade Quantity</th>\n",
              "      <th>Turnover (Lacs)</th>\n",
              "    </tr>\n",
              "  </thead>\n",
              "  <tbody>\n",
              "    <tr>\n",
              "      <th>count</th>\n",
              "      <td>2035.000000</td>\n",
              "      <td>2035.000000</td>\n",
              "      <td>2035.000000</td>\n",
              "      <td>2035.000000</td>\n",
              "      <td>2035.00000</td>\n",
              "      <td>2.035000e+03</td>\n",
              "      <td>2035.000000</td>\n",
              "    </tr>\n",
              "    <tr>\n",
              "      <th>mean</th>\n",
              "      <td>149.713735</td>\n",
              "      <td>151.992826</td>\n",
              "      <td>147.293931</td>\n",
              "      <td>149.474251</td>\n",
              "      <td>149.45027</td>\n",
              "      <td>2.335681e+06</td>\n",
              "      <td>3899.980565</td>\n",
              "    </tr>\n",
              "    <tr>\n",
              "      <th>std</th>\n",
              "      <td>48.664509</td>\n",
              "      <td>49.413109</td>\n",
              "      <td>47.931958</td>\n",
              "      <td>48.732570</td>\n",
              "      <td>48.71204</td>\n",
              "      <td>2.091778e+06</td>\n",
              "      <td>4570.767877</td>\n",
              "    </tr>\n",
              "    <tr>\n",
              "      <th>min</th>\n",
              "      <td>81.100000</td>\n",
              "      <td>82.800000</td>\n",
              "      <td>80.000000</td>\n",
              "      <td>81.000000</td>\n",
              "      <td>80.95000</td>\n",
              "      <td>3.961000e+04</td>\n",
              "      <td>37.040000</td>\n",
              "    </tr>\n",
              "    <tr>\n",
              "      <th>25%</th>\n",
              "      <td>120.025000</td>\n",
              "      <td>122.100000</td>\n",
              "      <td>118.300000</td>\n",
              "      <td>120.075000</td>\n",
              "      <td>120.05000</td>\n",
              "      <td>1.146444e+06</td>\n",
              "      <td>1427.460000</td>\n",
              "    </tr>\n",
              "    <tr>\n",
              "      <th>50%</th>\n",
              "      <td>141.500000</td>\n",
              "      <td>143.400000</td>\n",
              "      <td>139.600000</td>\n",
              "      <td>141.100000</td>\n",
              "      <td>141.25000</td>\n",
              "      <td>1.783456e+06</td>\n",
              "      <td>2512.030000</td>\n",
              "    </tr>\n",
              "    <tr>\n",
              "      <th>75%</th>\n",
              "      <td>157.175000</td>\n",
              "      <td>159.400000</td>\n",
              "      <td>155.150000</td>\n",
              "      <td>156.925000</td>\n",
              "      <td>156.90000</td>\n",
              "      <td>2.813594e+06</td>\n",
              "      <td>4539.015000</td>\n",
              "    </tr>\n",
              "    <tr>\n",
              "      <th>max</th>\n",
              "      <td>327.700000</td>\n",
              "      <td>328.750000</td>\n",
              "      <td>321.650000</td>\n",
              "      <td>325.950000</td>\n",
              "      <td>325.75000</td>\n",
              "      <td>2.919102e+07</td>\n",
              "      <td>55755.080000</td>\n",
              "    </tr>\n",
              "  </tbody>\n",
              "</table>\n",
              "</div>\n",
              "    <div class=\"colab-df-buttons\">\n",
              "\n",
              "  <div class=\"colab-df-container\">\n",
              "    <button class=\"colab-df-convert\" onclick=\"convertToInteractive('df-5203b4e9-2f53-4331-a67a-435483617561')\"\n",
              "            title=\"Convert this dataframe to an interactive table.\"\n",
              "            style=\"display:none;\">\n",
              "\n",
              "  <svg xmlns=\"http://www.w3.org/2000/svg\" height=\"24px\" viewBox=\"0 -960 960 960\">\n",
              "    <path d=\"M120-120v-720h720v720H120Zm60-500h600v-160H180v160Zm220 220h160v-160H400v160Zm0 220h160v-160H400v160ZM180-400h160v-160H180v160Zm440 0h160v-160H620v160ZM180-180h160v-160H180v160Zm440 0h160v-160H620v160Z\"/>\n",
              "  </svg>\n",
              "    </button>\n",
              "\n",
              "  <style>\n",
              "    .colab-df-container {\n",
              "      display:flex;\n",
              "      gap: 12px;\n",
              "    }\n",
              "\n",
              "    .colab-df-convert {\n",
              "      background-color: #E8F0FE;\n",
              "      border: none;\n",
              "      border-radius: 50%;\n",
              "      cursor: pointer;\n",
              "      display: none;\n",
              "      fill: #1967D2;\n",
              "      height: 32px;\n",
              "      padding: 0 0 0 0;\n",
              "      width: 32px;\n",
              "    }\n",
              "\n",
              "    .colab-df-convert:hover {\n",
              "      background-color: #E2EBFA;\n",
              "      box-shadow: 0px 1px 2px rgba(60, 64, 67, 0.3), 0px 1px 3px 1px rgba(60, 64, 67, 0.15);\n",
              "      fill: #174EA6;\n",
              "    }\n",
              "\n",
              "    .colab-df-buttons div {\n",
              "      margin-bottom: 4px;\n",
              "    }\n",
              "\n",
              "    [theme=dark] .colab-df-convert {\n",
              "      background-color: #3B4455;\n",
              "      fill: #D2E3FC;\n",
              "    }\n",
              "\n",
              "    [theme=dark] .colab-df-convert:hover {\n",
              "      background-color: #434B5C;\n",
              "      box-shadow: 0px 1px 3px 1px rgba(0, 0, 0, 0.15);\n",
              "      filter: drop-shadow(0px 1px 2px rgba(0, 0, 0, 0.3));\n",
              "      fill: #FFFFFF;\n",
              "    }\n",
              "  </style>\n",
              "\n",
              "    <script>\n",
              "      const buttonEl =\n",
              "        document.querySelector('#df-5203b4e9-2f53-4331-a67a-435483617561 button.colab-df-convert');\n",
              "      buttonEl.style.display =\n",
              "        google.colab.kernel.accessAllowed ? 'block' : 'none';\n",
              "\n",
              "      async function convertToInteractive(key) {\n",
              "        const element = document.querySelector('#df-5203b4e9-2f53-4331-a67a-435483617561');\n",
              "        const dataTable =\n",
              "          await google.colab.kernel.invokeFunction('convertToInteractive',\n",
              "                                                    [key], {});\n",
              "        if (!dataTable) return;\n",
              "\n",
              "        const docLinkHtml = 'Like what you see? Visit the ' +\n",
              "          '<a target=\"_blank\" href=https://colab.research.google.com/notebooks/data_table.ipynb>data table notebook</a>'\n",
              "          + ' to learn more about interactive tables.';\n",
              "        element.innerHTML = '';\n",
              "        dataTable['output_type'] = 'display_data';\n",
              "        await google.colab.output.renderOutput(dataTable, element);\n",
              "        const docLink = document.createElement('div');\n",
              "        docLink.innerHTML = docLinkHtml;\n",
              "        element.appendChild(docLink);\n",
              "      }\n",
              "    </script>\n",
              "  </div>\n",
              "\n",
              "\n",
              "<div id=\"df-2daa8a79-22e6-4569-a2c5-03eb50f8c1ff\">\n",
              "  <button class=\"colab-df-quickchart\" onclick=\"quickchart('df-2daa8a79-22e6-4569-a2c5-03eb50f8c1ff')\"\n",
              "            title=\"Suggest charts.\"\n",
              "            style=\"display:none;\">\n",
              "\n",
              "<svg xmlns=\"http://www.w3.org/2000/svg\" height=\"24px\"viewBox=\"0 0 24 24\"\n",
              "     width=\"24px\">\n",
              "    <g>\n",
              "        <path d=\"M19 3H5c-1.1 0-2 .9-2 2v14c0 1.1.9 2 2 2h14c1.1 0 2-.9 2-2V5c0-1.1-.9-2-2-2zM9 17H7v-7h2v7zm4 0h-2V7h2v10zm4 0h-2v-4h2v4z\"/>\n",
              "    </g>\n",
              "</svg>\n",
              "  </button>\n",
              "\n",
              "<style>\n",
              "  .colab-df-quickchart {\n",
              "    background-color: #E8F0FE;\n",
              "    border: none;\n",
              "    border-radius: 50%;\n",
              "    cursor: pointer;\n",
              "    display: none;\n",
              "    fill: #1967D2;\n",
              "    height: 32px;\n",
              "    padding: 0 0 0 0;\n",
              "    width: 32px;\n",
              "  }\n",
              "\n",
              "  .colab-df-quickchart:hover {\n",
              "    background-color: #E2EBFA;\n",
              "    box-shadow: 0px 1px 2px rgba(60, 64, 67, 0.3), 0px 1px 3px 1px rgba(60, 64, 67, 0.15);\n",
              "    fill: #174EA6;\n",
              "  }\n",
              "\n",
              "  [theme=dark] .colab-df-quickchart {\n",
              "    background-color: #3B4455;\n",
              "    fill: #D2E3FC;\n",
              "  }\n",
              "\n",
              "  [theme=dark] .colab-df-quickchart:hover {\n",
              "    background-color: #434B5C;\n",
              "    box-shadow: 0px 1px 3px 1px rgba(0, 0, 0, 0.15);\n",
              "    filter: drop-shadow(0px 1px 2px rgba(0, 0, 0, 0.3));\n",
              "    fill: #FFFFFF;\n",
              "  }\n",
              "</style>\n",
              "\n",
              "  <script>\n",
              "    async function quickchart(key) {\n",
              "      const charts = await google.colab.kernel.invokeFunction(\n",
              "          'suggestCharts', [key], {});\n",
              "    }\n",
              "    (() => {\n",
              "      let quickchartButtonEl =\n",
              "        document.querySelector('#df-2daa8a79-22e6-4569-a2c5-03eb50f8c1ff button');\n",
              "      quickchartButtonEl.style.display =\n",
              "        google.colab.kernel.accessAllowed ? 'block' : 'none';\n",
              "    })();\n",
              "  </script>\n",
              "</div>\n",
              "    </div>\n",
              "  </div>\n"
            ]
          },
          "metadata": {},
          "execution_count": 6
        }
      ]
    },
    {
      "cell_type": "code",
      "source": [
        "df.info()"
      ],
      "metadata": {
        "colab": {
          "base_uri": "https://localhost:8080/"
        },
        "id": "B1zLJez5KjWV",
        "outputId": "1bf76c39-66b6-4fdc-cb95-ba6e219bf20d"
      },
      "execution_count": 7,
      "outputs": [
        {
          "output_type": "stream",
          "name": "stdout",
          "text": [
            "<class 'pandas.core.frame.DataFrame'>\n",
            "RangeIndex: 2035 entries, 0 to 2034\n",
            "Data columns (total 8 columns):\n",
            " #   Column                Non-Null Count  Dtype  \n",
            "---  ------                --------------  -----  \n",
            " 0   Date                  2035 non-null   object \n",
            " 1   Open                  2035 non-null   float64\n",
            " 2   High                  2035 non-null   float64\n",
            " 3   Low                   2035 non-null   float64\n",
            " 4   Last                  2035 non-null   float64\n",
            " 5   Close                 2035 non-null   float64\n",
            " 6   Total Trade Quantity  2035 non-null   int64  \n",
            " 7   Turnover (Lacs)       2035 non-null   float64\n",
            "dtypes: float64(6), int64(1), object(1)\n",
            "memory usage: 127.3+ KB\n"
          ]
        }
      ]
    },
    {
      "cell_type": "code",
      "source": [
        "df.isnull().sum()"
      ],
      "metadata": {
        "colab": {
          "base_uri": "https://localhost:8080/"
        },
        "id": "rgkGQNj5KozX",
        "outputId": "4f43b173-d007-44b6-8a3b-b3a3fefe798a"
      },
      "execution_count": 8,
      "outputs": [
        {
          "output_type": "execute_result",
          "data": {
            "text/plain": [
              "Date                    0\n",
              "Open                    0\n",
              "High                    0\n",
              "Low                     0\n",
              "Last                    0\n",
              "Close                   0\n",
              "Total Trade Quantity    0\n",
              "Turnover (Lacs)         0\n",
              "dtype: int64"
            ]
          },
          "metadata": {},
          "execution_count": 8
        }
      ]
    },
    {
      "cell_type": "code",
      "source": [
        "duplicates = df.duplicated()\n",
        "duplicates.value_counts()"
      ],
      "metadata": {
        "colab": {
          "base_uri": "https://localhost:8080/"
        },
        "id": "4Mak1-lIK6YD",
        "outputId": "cf5634e5-253c-48c5-9dba-cdd79c607206"
      },
      "execution_count": 9,
      "outputs": [
        {
          "output_type": "execute_result",
          "data": {
            "text/plain": [
              "False    2035\n",
              "dtype: int64"
            ]
          },
          "metadata": {},
          "execution_count": 9
        }
      ]
    },
    {
      "cell_type": "code",
      "source": [
        "plt.figure(figsize=(6, 6))\n",
        "sns.heatmap(df.corr(), annot=True)"
      ],
      "metadata": {
        "colab": {
          "base_uri": "https://localhost:8080/",
          "height": 727
        },
        "id": "Sf_4Amn-LekR",
        "outputId": "17b6ffc0-9b35-41fc-d5f3-451003b7e834"
      },
      "execution_count": 10,
      "outputs": [
        {
          "output_type": "stream",
          "name": "stderr",
          "text": [
            "<ipython-input-10-349ff937d028>:2: FutureWarning: The default value of numeric_only in DataFrame.corr is deprecated. In a future version, it will default to False. Select only valid columns or specify the value of numeric_only to silence this warning.\n",
            "  sns.heatmap(df.corr(), annot=True)\n"
          ]
        },
        {
          "output_type": "execute_result",
          "data": {
            "text/plain": [
              "<Axes: >"
            ]
          },
          "metadata": {},
          "execution_count": 10
        },
        {
          "output_type": "display_data",
          "data": {
            "text/plain": [
              "<Figure size 600x600 with 2 Axes>"
            ],
            "image/png": "[encoded data removed]"
          },
          "metadata": {}
        }
      ]
    },
    {
      "cell_type": "code",
      "source": [
        "df_high=df.reset_index()['High']\n",
        "plt.plot(df_high)\n",
        "plt.grid()\n",
        "plt.legend()"
      ],
      "metadata": {
        "colab": {
          "base_uri": "https://localhost:8080/",
          "height": 486
        },
        "id": "xir_jrnLLFcK",
        "outputId": "4f2dc2b0-2f39-441d-eb4a-e978f7134846"
      },
      "execution_count": 11,
      "outputs": [
        {
          "output_type": "stream",
          "name": "stderr",
          "text": [
            "WARNING:matplotlib.legend:No artists with labels found to put in legend.  Note that artists whose label start with an underscore are ignored when legend() is called with no argument.\n"
          ]
        },
        {
          "output_type": "execute_result",
          "data": {
            "text/plain": [
              "<matplotlib.legend.Legend at 0x7e0de5c1d3f0>"
            ]
          },
          "metadata": {},
          "execution_count": 11
        },
        {
          "output_type": "display_data",
          "data": {
            "text/plain": [
              "<Figure size 640x480 with 1 Axes>"
            ],
            "image/png": "[encoded data removed]"
          },
          "metadata": {}
        }
      ]
    },
    {
      "cell_type": "markdown",
      "source": [
        " We sepaeate the closing Values of the share and assign each with a index. and simply plot the graph to look at the fluctuation. From the graph we get the insight over time the prize of its share is decreasing."
      ],
      "metadata": {
        "id": "2DkEiwTqnkXo"
      }
    },
    {
      "cell_type": "markdown",
      "source": [
        "## **Preprocessing the data**\n",
        "LSTM are not robust to scale of the data, so we apply MinMax Scaler to transform our values in the range of 0 and 1."
      ],
      "metadata": {
        "id": "EpmsfZsYMBm9"
      }
    },
    {
      "cell_type": "code",
      "source": [
        "from sklearn.preprocessing import MinMaxScaler\n",
        "scaler = MinMaxScaler(feature_range = (0,1))\n",
        "df_high = scaler.fit_transform(np.array(df_high).reshape(-1,1))"
      ],
      "metadata": {
        "id": "2rtplTNIMGUp"
      },
      "execution_count": 12,
      "outputs": []
    },
    {
      "cell_type": "code",
      "source": [
        "df_high"
      ],
      "metadata": {
        "colab": {
          "base_uri": "https://localhost:8080/"
        },
        "id": "nZKpTkVaO1Tm",
        "outputId": "7333946d-2f8f-42b1-e1a3-1bef4306fe35"
      },
      "execution_count": 13,
      "outputs": [
        {
          "output_type": "execute_result",
          "data": {
            "text/plain": [
              "array([[0.62268754],\n",
              "       [0.62614353],\n",
              "       [0.6391543 ],\n",
              "       ...,\n",
              "       [0.15917869],\n",
              "       [0.15938199],\n",
              "       [0.16344786]])"
            ]
          },
          "metadata": {},
          "execution_count": 13
        }
      ]
    },
    {
      "cell_type": "markdown",
      "source": [
        "### **Training and Testing**"
      ],
      "metadata": {
        "id": "2Vv6ffwQRSOq"
      }
    },
    {
      "cell_type": "code",
      "source": [
        "# Split the data into training and testing\n",
        "training_size = int(len(df_high)*0.75)\n",
        "test_size = len(df_high)- training_size\n",
        "train_data, test_data = df_high[0:training_size,:],df_high[training_size:len(df_high),:1]"
      ],
      "metadata": {
        "id": "q9UUubQHRNy9"
      },
      "execution_count": 14,
      "outputs": []
    },
    {
      "cell_type": "code",
      "source": [
        "training_size, test_size"
      ],
      "metadata": {
        "colab": {
          "base_uri": "https://localhost:8080/"
        },
        "id": "h_25g0jtR56m",
        "outputId": "33ee7011-0f19-4bec-dafe-08ef771610ad"
      },
      "execution_count": 15,
      "outputs": [
        {
          "output_type": "execute_result",
          "data": {
            "text/plain": [
              "(1526, 509)"
            ]
          },
          "metadata": {},
          "execution_count": 15
        }
      ]
    },
    {
      "cell_type": "markdown",
      "source": [
        "***Conversion of array values into dataset matrix***"
      ],
      "metadata": {
        "id": "cHzqYETpSBM_"
      }
    },
    {
      "cell_type": "code",
      "source": [
        "#Conversion of array values into dataset matrix\n",
        "def create_dataset(dataset, time_step=1):\n",
        "  dataX, dataY = [], []\n",
        "  for i in range(len(dataset)-time_step-1):\n",
        "    a = dataset[i:(i+time_step), 0]\n",
        "    dataX.append(a)\n",
        "    dataY.append(dataset[i + time_step, 0])\n",
        "  return np.array(dataX), np.array(dataY)"
      ],
      "metadata": {
        "id": "MYFaFBxfR_50"
      },
      "execution_count": 16,
      "outputs": []
    },
    {
      "cell_type": "code",
      "source": [
        "time_step = 100\n",
        "x_train, y_train = create_dataset(train_data, time_step)\n",
        "x_test, y_test = create_dataset(test_data, time_step)"
      ],
      "metadata": {
        "id": "194DzjRZS0Gn"
      },
      "execution_count": 17,
      "outputs": []
    },
    {
      "cell_type": "markdown",
      "source": [
        "***Reshape the input [samples, time steps, features] which is the requirement of LSTM***"
      ],
      "metadata": {
        "id": "RZ7665K1TmxC"
      }
    },
    {
      "cell_type": "code",
      "source": [
        "# Reshaping of inputs\n",
        "x_train = x_train.reshape(x_train.shape[0], x_train.shape[1], 1)\n",
        "x_test = x_test.reshape(x_test.shape[0], x_test.shape[1], 1)"
      ],
      "metadata": {
        "id": "e_-Rlef1T5uQ"
      },
      "execution_count": 18,
      "outputs": []
    },
    {
      "cell_type": "code",
      "source": [
        "print(x_test.shape), print(y_train.shape)\n",
        "print(x_test.shape), print(y_test.shape)"
      ],
      "metadata": {
        "colab": {
          "base_uri": "https://localhost:8080/"
        },
        "id": "Pou9mSSGWjKH",
        "outputId": "b999d8ef-2481-40ea-bb8d-f79da796712b"
      },
      "execution_count": 19,
      "outputs": [
        {
          "output_type": "stream",
          "name": "stdout",
          "text": [
            "(408, 100, 1)\n",
            "(1425,)\n",
            "(408, 100, 1)\n",
            "(408,)\n"
          ]
        },
        {
          "output_type": "execute_result",
          "data": {
            "text/plain": [
              "(None, None)"
            ]
          },
          "metadata": {},
          "execution_count": 19
        }
      ]
    },
    {
      "cell_type": "markdown",
      "source": [
        " **After the data is scaled we train the data and test the data using the last 25% data that we stored in a another set using initial dataset.\n",
        "Then we create stack LSTM model**"
      ],
      "metadata": {
        "id": "GK1cQJt4n5S6"
      }
    },
    {
      "cell_type": "markdown",
      "source": [
        "## **Making the LSTM model**"
      ],
      "metadata": {
        "id": "Zm2t9BRtW5hA"
      }
    },
    {
      "cell_type": "code",
      "source": [
        "import tensorflow as tf\n",
        "from tensorflow.python.keras.models import Sequential\n",
        "from tensorflow.python.keras.layers import Dense\n",
        "from tensorflow.python.keras.layers import LSTM\n",
        "# Creating the Stcked LSTM Model\n",
        "model = Sequential()\n",
        "model.add(LSTM(50, return_sequences = True, input_shape = (100,1)))\n",
        "model.add(LSTM(50))\n",
        "model.add(Dense(1))\n",
        "model.compile(loss = 'mean_squared_error',optimizer = 'adam')"
      ],
      "metadata": {
        "id": "Oxt00xqIW_KJ"
      },
      "execution_count": 20,
      "outputs": []
    },
    {
      "cell_type": "code",
      "source": [
        "model.summary()"
      ],
      "metadata": {
        "colab": {
          "base_uri": "https://localhost:8080/"
        },
        "id": "bylIT72rX3aW",
        "outputId": "e69990e5-6213-4616-f53f-d1dbdd32dd1b"
      },
      "execution_count": 43,
      "outputs": [
        {
          "output_type": "stream",
          "name": "stdout",
          "text": [
            "Model: \"sequential\"\n",
            "_________________________________________________________________\n",
            "Layer (type)                 Output Shape              Param #   \n",
            "=================================================================\n",
            "lstm (LSTM)                  (None, 100, 50)           10400     \n",
            "_________________________________________________________________\n",
            "lstm_1 (LSTM)                (None, 50)                20200     \n",
            "_________________________________________________________________\n",
            "dense (Dense)                (None, 1)                 51        \n",
            "=================================================================\n",
            "Total params: 30,651\n",
            "Trainable params: 30,651\n",
            "Non-trainable params: 0\n",
            "_________________________________________________________________\n"
          ]
        }
      ]
    },
    {
      "cell_type": "code",
      "source": [
        "model.fit(x_train, y_train, validation_data = (x_test, y_test), epochs = 100, batch_size = 64, verbose = 1)\n"
      ],
      "metadata": {
        "colab": {
          "base_uri": "https://localhost:8080/"
        },
        "id": "YxyvZ_6FYJIi",
        "outputId": "9162921c-d5a0-48dd-84f8-3552d47c68d6"
      },
      "execution_count": 21,
      "outputs": [
        {
          "output_type": "stream",
          "name": "stdout",
          "text": [
            "Epoch 1/100\n",
            "23/23 [==============================] - 27s 380ms/step - loss: 0.0303 - val_loss: 0.0023\n",
            "Epoch 2/100\n",
            "23/23 [==============================] - 8s 358ms/step - loss: 0.0032 - val_loss: 0.0014\n",
            "Epoch 3/100\n",
            "23/23 [==============================] - 7s 298ms/step - loss: 9.6756e-04 - val_loss: 7.4930e-04\n",
            "Epoch 4/100\n",
            "23/23 [==============================] - 8s 361ms/step - loss: 8.4171e-04 - val_loss: 0.0011\n",
            "Epoch 5/100\n",
            "23/23 [==============================] - 8s 358ms/step - loss: 8.1690e-04 - val_loss: 0.0010\n",
            "Epoch 6/100\n",
            "23/23 [==============================] - 7s 298ms/step - loss: 7.9759e-04 - val_loss: 9.5903e-04\n",
            "Epoch 7/100\n",
            "23/23 [==============================] - 10s 433ms/step - loss: 7.8217e-04 - val_loss: 9.7551e-04\n",
            "Epoch 8/100\n",
            "23/23 [==============================] - 7s 296ms/step - loss: 7.6238e-04 - val_loss: 8.8575e-04\n",
            "Epoch 9/100\n",
            "23/23 [==============================] - 8s 358ms/step - loss: 7.5404e-04 - val_loss: 9.3258e-04\n",
            "Epoch 10/100\n",
            "23/23 [==============================] - 7s 300ms/step - loss: 7.1502e-04 - val_loss: 7.1847e-04\n",
            "Epoch 11/100\n",
            "23/23 [==============================] - 8s 343ms/step - loss: 6.9889e-04 - val_loss: 7.6077e-04\n",
            "Epoch 12/100\n",
            "23/23 [==============================] - 8s 361ms/step - loss: 6.8528e-04 - val_loss: 8.0818e-04\n",
            "Epoch 13/100\n",
            "23/23 [==============================] - 8s 328ms/step - loss: 6.6885e-04 - val_loss: 6.8805e-04\n",
            "Epoch 14/100\n",
            "23/23 [==============================] - 8s 359ms/step - loss: 6.5847e-04 - val_loss: 7.1861e-04\n",
            "Epoch 15/100\n",
            "23/23 [==============================] - 7s 296ms/step - loss: 6.4771e-04 - val_loss: 5.5609e-04\n",
            "Epoch 16/100\n",
            "23/23 [==============================] - 8s 360ms/step - loss: 6.4394e-04 - val_loss: 6.1785e-04\n",
            "Epoch 17/100\n",
            "23/23 [==============================] - 8s 358ms/step - loss: 5.9916e-04 - val_loss: 5.5027e-04\n",
            "Epoch 18/100\n",
            "23/23 [==============================] - 7s 295ms/step - loss: 5.9416e-04 - val_loss: 6.3979e-04\n",
            "Epoch 19/100\n",
            "23/23 [==============================] - 9s 419ms/step - loss: 6.0498e-04 - val_loss: 5.6914e-04\n",
            "Epoch 20/100\n",
            "23/23 [==============================] - 7s 294ms/step - loss: 5.9846e-04 - val_loss: 6.0643e-04\n",
            "Epoch 21/100\n",
            "23/23 [==============================] - 8s 345ms/step - loss: 5.6713e-04 - val_loss: 4.9644e-04\n",
            "Epoch 22/100\n",
            "23/23 [==============================] - 8s 351ms/step - loss: 5.8348e-04 - val_loss: 6.2629e-04\n",
            "Epoch 23/100\n",
            "23/23 [==============================] - 7s 300ms/step - loss: 5.6899e-04 - val_loss: 6.4959e-04\n",
            "Epoch 24/100\n",
            "23/23 [==============================] - 8s 364ms/step - loss: 5.3830e-04 - val_loss: 4.9955e-04\n",
            "Epoch 25/100\n",
            "23/23 [==============================] - 7s 291ms/step - loss: 5.2432e-04 - val_loss: 5.5954e-04\n",
            "Epoch 26/100\n",
            "23/23 [==============================] - 8s 354ms/step - loss: 5.6995e-04 - val_loss: 4.3832e-04\n",
            "Epoch 27/100\n",
            "23/23 [==============================] - 7s 320ms/step - loss: 5.0832e-04 - val_loss: 4.5942e-04\n",
            "Epoch 28/100\n",
            "23/23 [==============================] - 8s 325ms/step - loss: 5.0342e-04 - val_loss: 5.3477e-04\n",
            "Epoch 29/100\n",
            "23/23 [==============================] - 8s 368ms/step - loss: 5.3748e-04 - val_loss: 4.1265e-04\n",
            "Epoch 30/100\n",
            "23/23 [==============================] - 7s 295ms/step - loss: 5.0594e-04 - val_loss: 4.3302e-04\n",
            "Epoch 31/100\n",
            "23/23 [==============================] - 8s 364ms/step - loss: 4.8743e-04 - val_loss: 5.9126e-04\n",
            "Epoch 32/100\n",
            "23/23 [==============================] - 7s 295ms/step - loss: 5.0267e-04 - val_loss: 4.3493e-04\n",
            "Epoch 33/100\n",
            "23/23 [==============================] - 8s 358ms/step - loss: 4.9179e-04 - val_loss: 4.6312e-04\n",
            "Epoch 34/100\n",
            "23/23 [==============================] - 8s 357ms/step - loss: 5.0513e-04 - val_loss: 4.6187e-04\n",
            "Epoch 35/100\n",
            "23/23 [==============================] - 7s 293ms/step - loss: 4.6503e-04 - val_loss: 4.6838e-04\n",
            "Epoch 36/100\n",
            "23/23 [==============================] - 8s 358ms/step - loss: 4.6316e-04 - val_loss: 5.2343e-04\n",
            "Epoch 37/100\n",
            "23/23 [==============================] - 7s 289ms/step - loss: 4.7974e-04 - val_loss: 4.4552e-04\n",
            "Epoch 38/100\n",
            "23/23 [==============================] - 10s 420ms/step - loss: 4.9473e-04 - val_loss: 6.2595e-04\n",
            "Epoch 39/100\n",
            "23/23 [==============================] - 7s 307ms/step - loss: 4.4107e-04 - val_loss: 4.4066e-04\n",
            "Epoch 40/100\n",
            "23/23 [==============================] - 8s 335ms/step - loss: 4.4280e-04 - val_loss: 4.8841e-04\n",
            "Epoch 41/100\n",
            "23/23 [==============================] - 8s 353ms/step - loss: 4.3509e-04 - val_loss: 3.9978e-04\n",
            "Epoch 42/100\n",
            "23/23 [==============================] - 7s 291ms/step - loss: 4.4180e-04 - val_loss: 5.8599e-04\n",
            "Epoch 43/100\n",
            "23/23 [==============================] - 8s 356ms/step - loss: 4.8317e-04 - val_loss: 4.8681e-04\n",
            "Epoch 44/100\n",
            "23/23 [==============================] - 7s 291ms/step - loss: 4.4879e-04 - val_loss: 4.7524e-04\n",
            "Epoch 45/100\n",
            "23/23 [==============================] - 8s 357ms/step - loss: 4.1037e-04 - val_loss: 5.2918e-04\n",
            "Epoch 46/100\n",
            "23/23 [==============================] - 7s 303ms/step - loss: 4.1120e-04 - val_loss: 3.6843e-04\n",
            "Epoch 47/100\n",
            "23/23 [==============================] - 8s 331ms/step - loss: 4.1946e-04 - val_loss: 3.8954e-04\n",
            "Epoch 48/100\n",
            "23/23 [==============================] - 8s 358ms/step - loss: 4.1231e-04 - val_loss: 4.5911e-04\n",
            "Epoch 49/100\n",
            "23/23 [==============================] - 7s 292ms/step - loss: 3.9804e-04 - val_loss: 3.7565e-04\n",
            "Epoch 50/100\n",
            "23/23 [==============================] - 8s 362ms/step - loss: 4.4906e-04 - val_loss: 4.9281e-04\n",
            "Epoch 51/100\n",
            "23/23 [==============================] - 7s 296ms/step - loss: 3.9970e-04 - val_loss: 4.0763e-04\n",
            "Epoch 52/100\n",
            "23/23 [==============================] - 8s 360ms/step - loss: 4.3035e-04 - val_loss: 3.8103e-04\n",
            "Epoch 53/100\n",
            "23/23 [==============================] - 8s 335ms/step - loss: 3.8819e-04 - val_loss: 3.4497e-04\n",
            "Epoch 54/100\n",
            "23/23 [==============================] - 7s 304ms/step - loss: 3.8083e-04 - val_loss: 3.4569e-04\n",
            "Epoch 55/100\n",
            "23/23 [==============================] - 8s 362ms/step - loss: 4.0675e-04 - val_loss: 4.3179e-04\n",
            "Epoch 56/100\n",
            "23/23 [==============================] - 7s 291ms/step - loss: 3.9386e-04 - val_loss: 3.4523e-04\n",
            "Epoch 57/100\n",
            "23/23 [==============================] - 8s 357ms/step - loss: 3.6157e-04 - val_loss: 3.4762e-04\n",
            "Epoch 58/100\n",
            "23/23 [==============================] - 7s 291ms/step - loss: 3.5560e-04 - val_loss: 3.6660e-04\n",
            "Epoch 59/100\n",
            "23/23 [==============================] - 8s 363ms/step - loss: 3.7894e-04 - val_loss: 3.5749e-04\n",
            "Epoch 60/100\n",
            "23/23 [==============================] - 8s 361ms/step - loss: 3.3965e-04 - val_loss: 2.7212e-04\n",
            "Epoch 61/100\n",
            "23/23 [==============================] - 7s 299ms/step - loss: 3.9430e-04 - val_loss: 4.5928e-04\n",
            "Epoch 62/100\n",
            "23/23 [==============================] - 8s 365ms/step - loss: 3.4587e-04 - val_loss: 2.7357e-04\n",
            "Epoch 63/100\n",
            "23/23 [==============================] - 7s 309ms/step - loss: 3.3779e-04 - val_loss: 3.5321e-04\n",
            "Epoch 64/100\n",
            "23/23 [==============================] - 8s 371ms/step - loss: 3.2639e-04 - val_loss: 3.5192e-04\n",
            "Epoch 65/100\n",
            "23/23 [==============================] - 8s 373ms/step - loss: 3.4860e-04 - val_loss: 2.4522e-04\n",
            "Epoch 66/100\n",
            "23/23 [==============================] - 7s 307ms/step - loss: 3.6301e-04 - val_loss: 4.3732e-04\n",
            "Epoch 67/100\n",
            "23/23 [==============================] - 8s 360ms/step - loss: 3.2305e-04 - val_loss: 3.2157e-04\n",
            "Epoch 68/100\n",
            "23/23 [==============================] - 8s 362ms/step - loss: 3.2047e-04 - val_loss: 2.5463e-04\n",
            "Epoch 69/100\n",
            "23/23 [==============================] - 8s 352ms/step - loss: 3.0609e-04 - val_loss: 3.0618e-04\n",
            "Epoch 70/100\n",
            "23/23 [==============================] - 8s 359ms/step - loss: 2.9950e-04 - val_loss: 4.0130e-04\n",
            "Epoch 71/100\n",
            "23/23 [==============================] - 7s 299ms/step - loss: 3.6653e-04 - val_loss: 2.5365e-04\n",
            "Epoch 72/100\n",
            "23/23 [==============================] - 8s 369ms/step - loss: 3.0946e-04 - val_loss: 2.4866e-04\n",
            "Epoch 73/100\n",
            "23/23 [==============================] - 7s 293ms/step - loss: 2.9270e-04 - val_loss: 2.6451e-04\n",
            "Epoch 74/100\n",
            "23/23 [==============================] - 8s 356ms/step - loss: 3.0683e-04 - val_loss: 2.4358e-04\n",
            "Epoch 75/100\n",
            "23/23 [==============================] - 8s 333ms/step - loss: 2.7949e-04 - val_loss: 3.2023e-04\n",
            "Epoch 76/100\n",
            "23/23 [==============================] - 7s 309ms/step - loss: 2.7633e-04 - val_loss: 2.4193e-04\n",
            "Epoch 77/100\n",
            "23/23 [==============================] - 8s 357ms/step - loss: 2.6714e-04 - val_loss: 2.7908e-04\n",
            "Epoch 78/100\n",
            "23/23 [==============================] - 7s 295ms/step - loss: 2.6639e-04 - val_loss: 3.0374e-04\n",
            "Epoch 79/100\n",
            "23/23 [==============================] - 8s 361ms/step - loss: 2.5708e-04 - val_loss: 2.6726e-04\n",
            "Epoch 80/100\n",
            "23/23 [==============================] - 7s 298ms/step - loss: 2.8510e-04 - val_loss: 3.4951e-04\n",
            "Epoch 81/100\n",
            "23/23 [==============================] - 8s 356ms/step - loss: 2.8682e-04 - val_loss: 2.7848e-04\n",
            "Epoch 82/100\n",
            "23/23 [==============================] - 8s 365ms/step - loss: 2.7182e-04 - val_loss: 2.3695e-04\n",
            "Epoch 83/100\n",
            "23/23 [==============================] - 7s 302ms/step - loss: 2.8758e-04 - val_loss: 1.8593e-04\n",
            "Epoch 84/100\n",
            "23/23 [==============================] - 8s 364ms/step - loss: 2.4940e-04 - val_loss: 2.5189e-04\n",
            "Epoch 85/100\n",
            "23/23 [==============================] - 7s 298ms/step - loss: 2.4320e-04 - val_loss: 2.0109e-04\n",
            "Epoch 86/100\n",
            "23/23 [==============================] - 8s 364ms/step - loss: 2.3290e-04 - val_loss: 2.1212e-04\n",
            "Epoch 87/100\n",
            "23/23 [==============================] - 8s 340ms/step - loss: 2.3118e-04 - val_loss: 1.7027e-04\n",
            "Epoch 88/100\n",
            "23/23 [==============================] - 7s 302ms/step - loss: 2.6344e-04 - val_loss: 1.9818e-04\n",
            "Epoch 89/100\n",
            "23/23 [==============================] - 8s 359ms/step - loss: 2.7600e-04 - val_loss: 2.5253e-04\n",
            "Epoch 90/100\n",
            "23/23 [==============================] - 7s 300ms/step - loss: 2.3666e-04 - val_loss: 1.8030e-04\n",
            "Epoch 91/100\n",
            "23/23 [==============================] - 8s 362ms/step - loss: 2.2615e-04 - val_loss: 2.1758e-04\n",
            "Epoch 92/100\n",
            "23/23 [==============================] - 7s 303ms/step - loss: 2.4637e-04 - val_loss: 1.7912e-04\n",
            "Epoch 93/100\n",
            "23/23 [==============================] - 8s 338ms/step - loss: 2.4386e-04 - val_loss: 1.5096e-04\n",
            "Epoch 94/100\n",
            "23/23 [==============================] - 8s 360ms/step - loss: 2.3325e-04 - val_loss: 1.8319e-04\n",
            "Epoch 95/100\n",
            "23/23 [==============================] - 7s 292ms/step - loss: 2.2995e-04 - val_loss: 2.1102e-04\n",
            "Epoch 96/100\n",
            "23/23 [==============================] - 8s 363ms/step - loss: 2.0856e-04 - val_loss: 1.8409e-04\n",
            "Epoch 97/100\n",
            "23/23 [==============================] - 7s 296ms/step - loss: 2.1707e-04 - val_loss: 1.7796e-04\n",
            "Epoch 98/100\n",
            "23/23 [==============================] - 8s 364ms/step - loss: 2.1325e-04 - val_loss: 1.5797e-04\n",
            "Epoch 99/100\n",
            "23/23 [==============================] - 8s 360ms/step - loss: 1.9933e-04 - val_loss: 1.7584e-04\n",
            "Epoch 100/100\n",
            "23/23 [==============================] - 9s 373ms/step - loss: 2.1356e-04 - val_loss: 1.8719e-04\n"
          ]
        },
        {
          "output_type": "execute_result",
          "data": {
            "text/plain": [
              "<tensorflow.python.keras.callbacks.History at 0x7e0d7bf67400>"
            ]
          },
          "metadata": {},
          "execution_count": 21
        }
      ]
    },
    {
      "cell_type": "code",
      "source": [
        "# Predictions\n",
        "train_predict = model.predict(x_train)\n",
        "test_predict = model.predict(x_test)"
      ],
      "metadata": {
        "id": "mPcE77-RbphV"
      },
      "execution_count": 22,
      "outputs": []
    },
    {
      "cell_type": "code",
      "source": [
        "train_predict = scaler.inverse_transform(train_predict)\n",
        "test_predict = scaler.inverse_transform(test_predict)"
      ],
      "metadata": {
        "id": "-zIsNBRgcNCL"
      },
      "execution_count": 23,
      "outputs": []
    },
    {
      "cell_type": "markdown",
      "source": [
        "## **RMSE(Root Mean Square Error)**"
      ],
      "metadata": {
        "id": "u93fNNVzchId"
      }
    },
    {
      "cell_type": "code",
      "source": [
        "import math\n",
        "from sklearn.metrics import mean_squared_error\n",
        "math.sqrt(mean_squared_error(y_train, train_predict))"
      ],
      "metadata": {
        "colab": {
          "base_uri": "https://localhost:8080/"
        },
        "id": "wtMHXihUcn9l",
        "outputId": "3d414957-66cf-4e75-a22b-bfabe580a89b"
      },
      "execution_count": 24,
      "outputs": [
        {
          "output_type": "execute_result",
          "data": {
            "text/plain": [
              "165.50065771178086"
            ]
          },
          "metadata": {},
          "execution_count": 24
        }
      ]
    },
    {
      "cell_type": "code",
      "source": [
        "math.sqrt(mean_squared_error(y_test, test_predict))"
      ],
      "metadata": {
        "colab": {
          "base_uri": "https://localhost:8080/"
        },
        "id": "yID5AV4dc7ME",
        "outputId": "0d759961-a068-49cf-a387-d8c8e2929482"
      },
      "execution_count": 25,
      "outputs": [
        {
          "output_type": "execute_result",
          "data": {
            "text/plain": [
              "108.06829300908383"
            ]
          },
          "metadata": {},
          "execution_count": 25
        }
      ]
    },
    {
      "cell_type": "markdown",
      "source": [
        "## **Plotting**"
      ],
      "metadata": {
        "id": "Js-G8fXsdPqv"
      }
    },
    {
      "cell_type": "code",
      "source": [
        "look_back = 100\n",
        "trainPredictPlot = np.empty_like(df_high)\n",
        "trainPredictPlot[:,:] = np.nan\n",
        "trainPredictPlot[look_back:len(train_predict) + look_back, :] = train_predict\n",
        "\n",
        "#  test predictions for plotting\n",
        "testPredictPlot = np.empty_like(df_high)\n",
        "testPredictPlot[:,:] = np.nan\n",
        "testPredictPlot[len(train_predict) + (look_back * 2) +1:len(df_high) - 1, :] = test_predict"
      ],
      "metadata": {
        "id": "z_KQirf1dUJ3"
      },
      "execution_count": 26,
      "outputs": []
    },
    {
      "cell_type": "code",
      "source": [
        "# Plotting the baseline and predictions\n",
        "plt.plot(scaler.inverse_transform(df_high),c='green',label='Predicted Data')\n",
        "plt.plot(trainPredictPlot,c='r',label=' train Data')\n",
        "plt.plot(testPredictPlot,c='blue',label='Completed Data')\n",
        "plt.legend()\n",
        "plt.axhline(y=110,c='dimgrey')\n",
        "plt.show()\n",
        "\n",
        "print(\"Green indicates the Predicted Data\")\n",
        "print(\"Blue indicated the Completed Data\")\n",
        "print(\"Red indicates the train Data\")"
      ],
      "metadata": {
        "colab": {
          "base_uri": "https://localhost:8080/",
          "height": 484
        },
        "id": "a5TRV8bhewVu",
        "outputId": "dd86f584-9e87-4765-b260-e791fbd6707a"
      },
      "execution_count": 27,
      "outputs": [
        {
          "output_type": "display_data",
          "data": {
            "text/plain": [
              "<Figure size 640x480 with 1 Axes>"
            ],
            "image/png": "[encoded data removed]"
          },
          "metadata": {}
        },
        {
          "output_type": "stream",
          "name": "stdout",
          "text": [
            "Green indicates the Predicted Data\n",
            "Blue indicated the Completed Data\n",
            "Red indicates the train Data\n"
          ]
        }
      ]
    },
    {
      "cell_type": "code",
      "source": [
        "len(test_data), x_test.shape"
      ],
      "metadata": {
        "colab": {
          "base_uri": "https://localhost:8080/"
        },
        "id": "QGFpH4TVhnCD",
        "outputId": "7d9bc0f6-46ee-4e09-d95b-a5424e4833b6"
      },
      "execution_count": 28,
      "outputs": [
        {
          "output_type": "execute_result",
          "data": {
            "text/plain": [
              "(509, (408, 100, 1))"
            ]
          },
          "metadata": {},
          "execution_count": 28
        }
      ]
    },
    {
      "cell_type": "code",
      "source": [
        "x_input = test_data[409:].reshape(1,-1)\n",
        "x_input.shape"
      ],
      "metadata": {
        "colab": {
          "base_uri": "https://localhost:8080/"
        },
        "id": "aswfWR_phuVp",
        "outputId": "726751f8-1d81-4426-ef78-84ded1e7d6fa"
      },
      "execution_count": 29,
      "outputs": [
        {
          "output_type": "execute_result",
          "data": {
            "text/plain": [
              "(1, 100)"
            ]
          },
          "metadata": {},
          "execution_count": 29
        }
      ]
    },
    {
      "cell_type": "code",
      "source": [
        "temp_input = list(x_input)\n",
        "temp_input = temp_input[0].tolist()\n",
        "\n",
        "lst_output=[]\n",
        "n_steps = 100\n",
        "nextNumberOfDays =30\n",
        "i=0\n",
        "\n",
        "while(i<nextNumberOfDays):\n",
        "\n",
        "  if(len(temp_input)>100):\n",
        "     x_input = np.array(temp_input[1:])\n",
        "     print(\"{} day input {}\".format(i,x_input))\n",
        "     x_input=x_input.reshape(1,-1)\n",
        "     x_input = x_input.reshape((1, n_steps, 1))\n",
        "\n",
        "     yhat = model.predict(x_input, verbose=0)\n",
        "     print(\"{} day output {}\".format(i,yhat))\n",
        "     temp_input.extend(yhat[0].tolist())\n",
        "     temp_input=temp_input[1:]\n",
        "\n",
        "     lst_output.extend(yhat.tolist())\n",
        "     i=i+1\n",
        "  else:\n",
        "      x_input = x_input.reshape((1, n_steps,1))\n",
        "      yhat = model.predict(x_input, verbose=0)\n",
        "      print(yhat[0])\n",
        "      temp_input.extend(yhat[0].tolist())\n",
        "      print(len(temp_input))\n",
        "      lst_output.extend(yhat.tolist())\n",
        "      i=i+1\n",
        "\n",
        "\n",
        "print(lst_output)"
      ],
      "metadata": {
        "colab": {
          "base_uri": "https://localhost:8080/"
        },
        "id": "VVu_e9u-ibB1",
        "outputId": "22fa344d-39cc-40b2-f4be-dd58b018e67d"
      },
      "execution_count": 30,
      "outputs": [
        {
          "output_type": "stream",
          "name": "stdout",
          "text": [
            "[0.16360827]\n",
            "101\n",
            "1 day input [0.13254727 0.13397032 0.13356373 0.13498679 0.14108559 0.13498679\n",
            " 0.12644847 0.12685505 0.12482212 0.14515145 0.1467778  0.15003049\n",
            " 0.15368977 0.17198618 0.16548079 0.17625534 0.17564546 0.19129904\n",
            " 0.20817239 0.20309006 0.18479366 0.17930474 0.1896727  0.17483228\n",
            " 0.17849156 0.17645863 0.18540354 0.18377719 0.19190892 0.18987599\n",
            " 0.19028258 0.19394186 0.20004066 0.19638138 0.19495832 0.20349665\n",
            " 0.19597479 0.21162838 0.22036999 0.20979874 0.21528766 0.21589754\n",
            " 0.21610083 0.22748526 0.19150234 0.1833706  0.17340923 0.16751372\n",
            " 0.1622281  0.17056312 0.17462899 0.17930474 0.18174426 0.16853019\n",
            " 0.16548079 0.1742224  0.1713763  0.17300264 0.17157959 0.17767839\n",
            " 0.18459036 0.18702988 0.18987599 0.19109575 0.18581012 0.17015654\n",
            " 0.16751372 0.16974995 0.16609067 0.15531612 0.15003049 0.15064037\n",
            " 0.14860744 0.14596463 0.15043708 0.14413499 0.12441553 0.12827811\n",
            " 0.11547062 0.12034966 0.13478349 0.13498679 0.12868469 0.13295385\n",
            " 0.12807481 0.12624517 0.13051433 0.13905265 0.14718439 0.15104696\n",
            " 0.14515145 0.14311852 0.15816223 0.15328319 0.14921732 0.15531612\n",
            " 0.15917869 0.15938199 0.16344786 0.16360827]\n",
            "1 day output [[0.16557148]]\n",
            "2 day input [0.13397032 0.13356373 0.13498679 0.14108559 0.13498679 0.12644847\n",
            " 0.12685505 0.12482212 0.14515145 0.1467778  0.15003049 0.15368977\n",
            " 0.17198618 0.16548079 0.17625534 0.17564546 0.19129904 0.20817239\n",
            " 0.20309006 0.18479366 0.17930474 0.1896727  0.17483228 0.17849156\n",
            " 0.17645863 0.18540354 0.18377719 0.19190892 0.18987599 0.19028258\n",
            " 0.19394186 0.20004066 0.19638138 0.19495832 0.20349665 0.19597479\n",
            " 0.21162838 0.22036999 0.20979874 0.21528766 0.21589754 0.21610083\n",
            " 0.22748526 0.19150234 0.1833706  0.17340923 0.16751372 0.1622281\n",
            " 0.17056312 0.17462899 0.17930474 0.18174426 0.16853019 0.16548079\n",
            " 0.1742224  0.1713763  0.17300264 0.17157959 0.17767839 0.18459036\n",
            " 0.18702988 0.18987599 0.19109575 0.18581012 0.17015654 0.16751372\n",
            " 0.16974995 0.16609067 0.15531612 0.15003049 0.15064037 0.14860744\n",
            " 0.14596463 0.15043708 0.14413499 0.12441553 0.12827811 0.11547062\n",
            " 0.12034966 0.13478349 0.13498679 0.12868469 0.13295385 0.12807481\n",
            " 0.12624517 0.13051433 0.13905265 0.14718439 0.15104696 0.14515145\n",
            " 0.14311852 0.15816223 0.15328319 0.14921732 0.15531612 0.15917869\n",
            " 0.15938199 0.16344786 0.16360827 0.16557148]\n",
            "2 day output [[0.1670998]]\n",
            "3 day input [0.13356373 0.13498679 0.14108559 0.13498679 0.12644847 0.12685505\n",
            " 0.12482212 0.14515145 0.1467778  0.15003049 0.15368977 0.17198618\n",
            " 0.16548079 0.17625534 0.17564546 0.19129904 0.20817239 0.20309006\n",
            " 0.18479366 0.17930474 0.1896727  0.17483228 0.17849156 0.17645863\n",
            " 0.18540354 0.18377719 0.19190892 0.18987599 0.19028258 0.19394186\n",
            " 0.20004066 0.19638138 0.19495832 0.20349665 0.19597479 0.21162838\n",
            " 0.22036999 0.20979874 0.21528766 0.21589754 0.21610083 0.22748526\n",
            " 0.19150234 0.1833706  0.17340923 0.16751372 0.1622281  0.17056312\n",
            " 0.17462899 0.17930474 0.18174426 0.16853019 0.16548079 0.1742224\n",
            " 0.1713763  0.17300264 0.17157959 0.17767839 0.18459036 0.18702988\n",
            " 0.18987599 0.19109575 0.18581012 0.17015654 0.16751372 0.16974995\n",
            " 0.16609067 0.15531612 0.15003049 0.15064037 0.14860744 0.14596463\n",
            " 0.15043708 0.14413499 0.12441553 0.12827811 0.11547062 0.12034966\n",
            " 0.13478349 0.13498679 0.12868469 0.13295385 0.12807481 0.12624517\n",
            " 0.13051433 0.13905265 0.14718439 0.15104696 0.14515145 0.14311852\n",
            " 0.15816223 0.15328319 0.14921732 0.15531612 0.15917869 0.15938199\n",
            " 0.16344786 0.16360827 0.16557148 0.1670998 ]\n",
            "3 day output [[0.16842933]]\n",
            "4 day input [0.13498679 0.14108559 0.13498679 0.12644847 0.12685505 0.12482212\n",
            " 0.14515145 0.1467778  0.15003049 0.15368977 0.17198618 0.16548079\n",
            " 0.17625534 0.17564546 0.19129904 0.20817239 0.20309006 0.18479366\n",
            " 0.17930474 0.1896727  0.17483228 0.17849156 0.17645863 0.18540354\n",
            " 0.18377719 0.19190892 0.18987599 0.19028258 0.19394186 0.20004066\n",
            " 0.19638138 0.19495832 0.20349665 0.19597479 0.21162838 0.22036999\n",
            " 0.20979874 0.21528766 0.21589754 0.21610083 0.22748526 0.19150234\n",
            " 0.1833706  0.17340923 0.16751372 0.1622281  0.17056312 0.17462899\n",
            " 0.17930474 0.18174426 0.16853019 0.16548079 0.1742224  0.1713763\n",
            " 0.17300264 0.17157959 0.17767839 0.18459036 0.18702988 0.18987599\n",
            " 0.19109575 0.18581012 0.17015654 0.16751372 0.16974995 0.16609067\n",
            " 0.15531612 0.15003049 0.15064037 0.14860744 0.14596463 0.15043708\n",
            " 0.14413499 0.12441553 0.12827811 0.11547062 0.12034966 0.13478349\n",
            " 0.13498679 0.12868469 0.13295385 0.12807481 0.12624517 0.13051433\n",
            " 0.13905265 0.14718439 0.15104696 0.14515145 0.14311852 0.15816223\n",
            " 0.15328319 0.14921732 0.15531612 0.15917869 0.15938199 0.16344786\n",
            " 0.16360827 0.16557148 0.1670998  0.16842933]\n",
            "4 day output [[0.16967441]]\n",
            "5 day input [0.14108559 0.13498679 0.12644847 0.12685505 0.12482212 0.14515145\n",
            " 0.1467778  0.15003049 0.15368977 0.17198618 0.16548079 0.17625534\n",
            " 0.17564546 0.19129904 0.20817239 0.20309006 0.18479366 0.17930474\n",
            " 0.1896727  0.17483228 0.17849156 0.17645863 0.18540354 0.18377719\n",
            " 0.19190892 0.18987599 0.19028258 0.19394186 0.20004066 0.19638138\n",
            " 0.19495832 0.20349665 0.19597479 0.21162838 0.22036999 0.20979874\n",
            " 0.21528766 0.21589754 0.21610083 0.22748526 0.19150234 0.1833706\n",
            " 0.17340923 0.16751372 0.1622281  0.17056312 0.17462899 0.17930474\n",
            " 0.18174426 0.16853019 0.16548079 0.1742224  0.1713763  0.17300264\n",
            " 0.17157959 0.17767839 0.18459036 0.18702988 0.18987599 0.19109575\n",
            " 0.18581012 0.17015654 0.16751372 0.16974995 0.16609067 0.15531612\n",
            " 0.15003049 0.15064037 0.14860744 0.14596463 0.15043708 0.14413499\n",
            " 0.12441553 0.12827811 0.11547062 0.12034966 0.13478349 0.13498679\n",
            " 0.12868469 0.13295385 0.12807481 0.12624517 0.13051433 0.13905265\n",
            " 0.14718439 0.15104696 0.14515145 0.14311852 0.15816223 0.15328319\n",
            " 0.14921732 0.15531612 0.15917869 0.15938199 0.16344786 0.16360827\n",
            " 0.16557148 0.1670998  0.16842933 0.16967441]\n",
            "5 day output [[0.17088696]]\n",
            "6 day input [0.13498679 0.12644847 0.12685505 0.12482212 0.14515145 0.1467778\n",
            " 0.15003049 0.15368977 0.17198618 0.16548079 0.17625534 0.17564546\n",
            " 0.19129904 0.20817239 0.20309006 0.18479366 0.17930474 0.1896727\n",
            " 0.17483228 0.17849156 0.17645863 0.18540354 0.18377719 0.19190892\n",
            " 0.18987599 0.19028258 0.19394186 0.20004066 0.19638138 0.19495832\n",
            " 0.20349665 0.19597479 0.21162838 0.22036999 0.20979874 0.21528766\n",
            " 0.21589754 0.21610083 0.22748526 0.19150234 0.1833706  0.17340923\n",
            " 0.16751372 0.1622281  0.17056312 0.17462899 0.17930474 0.18174426\n",
            " 0.16853019 0.16548079 0.1742224  0.1713763  0.17300264 0.17157959\n",
            " 0.17767839 0.18459036 0.18702988 0.18987599 0.19109575 0.18581012\n",
            " 0.17015654 0.16751372 0.16974995 0.16609067 0.15531612 0.15003049\n",
            " 0.15064037 0.14860744 0.14596463 0.15043708 0.14413499 0.12441553\n",
            " 0.12827811 0.11547062 0.12034966 0.13478349 0.13498679 0.12868469\n",
            " 0.13295385 0.12807481 0.12624517 0.13051433 0.13905265 0.14718439\n",
            " 0.15104696 0.14515145 0.14311852 0.15816223 0.15328319 0.14921732\n",
            " 0.15531612 0.15917869 0.15938199 0.16344786 0.16360827 0.16557148\n",
            " 0.1670998  0.16842933 0.16967441 0.17088696]\n",
            "6 day output [[0.17208704]]\n",
            "7 day input [0.12644847 0.12685505 0.12482212 0.14515145 0.1467778  0.15003049\n",
            " 0.15368977 0.17198618 0.16548079 0.17625534 0.17564546 0.19129904\n",
            " 0.20817239 0.20309006 0.18479366 0.17930474 0.1896727  0.17483228\n",
            " 0.17849156 0.17645863 0.18540354 0.18377719 0.19190892 0.18987599\n",
            " 0.19028258 0.19394186 0.20004066 0.19638138 0.19495832 0.20349665\n",
            " 0.19597479 0.21162838 0.22036999 0.20979874 0.21528766 0.21589754\n",
            " 0.21610083 0.22748526 0.19150234 0.1833706  0.17340923 0.16751372\n",
            " 0.1622281  0.17056312 0.17462899 0.17930474 0.18174426 0.16853019\n",
            " 0.16548079 0.1742224  0.1713763  0.17300264 0.17157959 0.17767839\n",
            " 0.18459036 0.18702988 0.18987599 0.19109575 0.18581012 0.17015654\n",
            " 0.16751372 0.16974995 0.16609067 0.15531612 0.15003049 0.15064037\n",
            " 0.14860744 0.14596463 0.15043708 0.14413499 0.12441553 0.12827811\n",
            " 0.11547062 0.12034966 0.13478349 0.13498679 0.12868469 0.13295385\n",
            " 0.12807481 0.12624517 0.13051433 0.13905265 0.14718439 0.15104696\n",
            " 0.14515145 0.14311852 0.15816223 0.15328319 0.14921732 0.15531612\n",
            " 0.15917869 0.15938199 0.16344786 0.16360827 0.16557148 0.1670998\n",
            " 0.16842933 0.16967441 0.17088696 0.17208704]\n",
            "7 day output [[0.17327957]]\n",
            "8 day input [0.12685505 0.12482212 0.14515145 0.1467778  0.15003049 0.15368977\n",
            " 0.17198618 0.16548079 0.17625534 0.17564546 0.19129904 0.20817239\n",
            " 0.20309006 0.18479366 0.17930474 0.1896727  0.17483228 0.17849156\n",
            " 0.17645863 0.18540354 0.18377719 0.19190892 0.18987599 0.19028258\n",
            " 0.19394186 0.20004066 0.19638138 0.19495832 0.20349665 0.19597479\n",
            " 0.21162838 0.22036999 0.20979874 0.21528766 0.21589754 0.21610083\n",
            " 0.22748526 0.19150234 0.1833706  0.17340923 0.16751372 0.1622281\n",
            " 0.17056312 0.17462899 0.17930474 0.18174426 0.16853019 0.16548079\n",
            " 0.1742224  0.1713763  0.17300264 0.17157959 0.17767839 0.18459036\n",
            " 0.18702988 0.18987599 0.19109575 0.18581012 0.17015654 0.16751372\n",
            " 0.16974995 0.16609067 0.15531612 0.15003049 0.15064037 0.14860744\n",
            " 0.14596463 0.15043708 0.14413499 0.12441553 0.12827811 0.11547062\n",
            " 0.12034966 0.13478349 0.13498679 0.12868469 0.13295385 0.12807481\n",
            " 0.12624517 0.13051433 0.13905265 0.14718439 0.15104696 0.14515145\n",
            " 0.14311852 0.15816223 0.15328319 0.14921732 0.15531612 0.15917869\n",
            " 0.15938199 0.16344786 0.16360827 0.16557148 0.1670998  0.16842933\n",
            " 0.16967441 0.17088696 0.17208704 0.17327957]\n",
            "8 day output [[0.1744627]]\n",
            "9 day input [0.12482212 0.14515145 0.1467778  0.15003049 0.15368977 0.17198618\n",
            " 0.16548079 0.17625534 0.17564546 0.19129904 0.20817239 0.20309006\n",
            " 0.18479366 0.17930474 0.1896727  0.17483228 0.17849156 0.17645863\n",
            " 0.18540354 0.18377719 0.19190892 0.18987599 0.19028258 0.19394186\n",
            " 0.20004066 0.19638138 0.19495832 0.20349665 0.19597479 0.21162838\n",
            " 0.22036999 0.20979874 0.21528766 0.21589754 0.21610083 0.22748526\n",
            " 0.19150234 0.1833706  0.17340923 0.16751372 0.1622281  0.17056312\n",
            " 0.17462899 0.17930474 0.18174426 0.16853019 0.16548079 0.1742224\n",
            " 0.1713763  0.17300264 0.17157959 0.17767839 0.18459036 0.18702988\n",
            " 0.18987599 0.19109575 0.18581012 0.17015654 0.16751372 0.16974995\n",
            " 0.16609067 0.15531612 0.15003049 0.15064037 0.14860744 0.14596463\n",
            " 0.15043708 0.14413499 0.12441553 0.12827811 0.11547062 0.12034966\n",
            " 0.13478349 0.13498679 0.12868469 0.13295385 0.12807481 0.12624517\n",
            " 0.13051433 0.13905265 0.14718439 0.15104696 0.14515145 0.14311852\n",
            " 0.15816223 0.15328319 0.14921732 0.15531612 0.15917869 0.15938199\n",
            " 0.16344786 0.16360827 0.16557148 0.1670998  0.16842933 0.16967441\n",
            " 0.17088696 0.17208704 0.17327957 0.17446271]\n",
            "9 day output [[0.17563227]]\n",
            "10 day input [0.14515145 0.1467778  0.15003049 0.15368977 0.17198618 0.16548079\n",
            " 0.17625534 0.17564546 0.19129904 0.20817239 0.20309006 0.18479366\n",
            " 0.17930474 0.1896727  0.17483228 0.17849156 0.17645863 0.18540354\n",
            " 0.18377719 0.19190892 0.18987599 0.19028258 0.19394186 0.20004066\n",
            " 0.19638138 0.19495832 0.20349665 0.19597479 0.21162838 0.22036999\n",
            " 0.20979874 0.21528766 0.21589754 0.21610083 0.22748526 0.19150234\n",
            " 0.1833706  0.17340923 0.16751372 0.1622281  0.17056312 0.17462899\n",
            " 0.17930474 0.18174426 0.16853019 0.16548079 0.1742224  0.1713763\n",
            " 0.17300264 0.17157959 0.17767839 0.18459036 0.18702988 0.18987599\n",
            " 0.19109575 0.18581012 0.17015654 0.16751372 0.16974995 0.16609067\n",
            " 0.15531612 0.15003049 0.15064037 0.14860744 0.14596463 0.15043708\n",
            " 0.14413499 0.12441553 0.12827811 0.11547062 0.12034966 0.13478349\n",
            " 0.13498679 0.12868469 0.13295385 0.12807481 0.12624517 0.13051433\n",
            " 0.13905265 0.14718439 0.15104696 0.14515145 0.14311852 0.15816223\n",
            " 0.15328319 0.14921732 0.15531612 0.15917869 0.15938199 0.16344786\n",
            " 0.16360827 0.16557148 0.1670998  0.16842933 0.16967441 0.17088696\n",
            " 0.17208704 0.17327957 0.17446271 0.17563227]\n",
            "10 day output [[0.176784]]\n",
            "11 day input [0.1467778  0.15003049 0.15368977 0.17198618 0.16548079 0.17625534\n",
            " 0.17564546 0.19129904 0.20817239 0.20309006 0.18479366 0.17930474\n",
            " 0.1896727  0.17483228 0.17849156 0.17645863 0.18540354 0.18377719\n",
            " 0.19190892 0.18987599 0.19028258 0.19394186 0.20004066 0.19638138\n",
            " 0.19495832 0.20349665 0.19597479 0.21162838 0.22036999 0.20979874\n",
            " 0.21528766 0.21589754 0.21610083 0.22748526 0.19150234 0.1833706\n",
            " 0.17340923 0.16751372 0.1622281  0.17056312 0.17462899 0.17930474\n",
            " 0.18174426 0.16853019 0.16548079 0.1742224  0.1713763  0.17300264\n",
            " 0.17157959 0.17767839 0.18459036 0.18702988 0.18987599 0.19109575\n",
            " 0.18581012 0.17015654 0.16751372 0.16974995 0.16609067 0.15531612\n",
            " 0.15003049 0.15064037 0.14860744 0.14596463 0.15043708 0.14413499\n",
            " 0.12441553 0.12827811 0.11547062 0.12034966 0.13478349 0.13498679\n",
            " 0.12868469 0.13295385 0.12807481 0.12624517 0.13051433 0.13905265\n",
            " 0.14718439 0.15104696 0.14515145 0.14311852 0.15816223 0.15328319\n",
            " 0.14921732 0.15531612 0.15917869 0.15938199 0.16344786 0.16360827\n",
            " 0.16557148 0.1670998  0.16842933 0.16967441 0.17088696 0.17208704\n",
            " 0.17327957 0.17446271 0.17563227 0.17678399]\n",
            "11 day output [[0.17791444]]\n",
            "12 day input [0.15003049 0.15368977 0.17198618 0.16548079 0.17625534 0.17564546\n",
            " 0.19129904 0.20817239 0.20309006 0.18479366 0.17930474 0.1896727\n",
            " 0.17483228 0.17849156 0.17645863 0.18540354 0.18377719 0.19190892\n",
            " 0.18987599 0.19028258 0.19394186 0.20004066 0.19638138 0.19495832\n",
            " 0.20349665 0.19597479 0.21162838 0.22036999 0.20979874 0.21528766\n",
            " 0.21589754 0.21610083 0.22748526 0.19150234 0.1833706  0.17340923\n",
            " 0.16751372 0.1622281  0.17056312 0.17462899 0.17930474 0.18174426\n",
            " 0.16853019 0.16548079 0.1742224  0.1713763  0.17300264 0.17157959\n",
            " 0.17767839 0.18459036 0.18702988 0.18987599 0.19109575 0.18581012\n",
            " 0.17015654 0.16751372 0.16974995 0.16609067 0.15531612 0.15003049\n",
            " 0.15064037 0.14860744 0.14596463 0.15043708 0.14413499 0.12441553\n",
            " 0.12827811 0.11547062 0.12034966 0.13478349 0.13498679 0.12868469\n",
            " 0.13295385 0.12807481 0.12624517 0.13051433 0.13905265 0.14718439\n",
            " 0.15104696 0.14515145 0.14311852 0.15816223 0.15328319 0.14921732\n",
            " 0.15531612 0.15917869 0.15938199 0.16344786 0.16360827 0.16557148\n",
            " 0.1670998  0.16842933 0.16967441 0.17088696 0.17208704 0.17327957\n",
            " 0.17446271 0.17563227 0.17678399 0.17791444]\n",
            "12 day output [[0.17902099]]\n",
            "13 day input [0.15368977 0.17198618 0.16548079 0.17625534 0.17564546 0.19129904\n",
            " 0.20817239 0.20309006 0.18479366 0.17930474 0.1896727  0.17483228\n",
            " 0.17849156 0.17645863 0.18540354 0.18377719 0.19190892 0.18987599\n",
            " 0.19028258 0.19394186 0.20004066 0.19638138 0.19495832 0.20349665\n",
            " 0.19597479 0.21162838 0.22036999 0.20979874 0.21528766 0.21589754\n",
            " 0.21610083 0.22748526 0.19150234 0.1833706  0.17340923 0.16751372\n",
            " 0.1622281  0.17056312 0.17462899 0.17930474 0.18174426 0.16853019\n",
            " 0.16548079 0.1742224  0.1713763  0.17300264 0.17157959 0.17767839\n",
            " 0.18459036 0.18702988 0.18987599 0.19109575 0.18581012 0.17015654\n",
            " 0.16751372 0.16974995 0.16609067 0.15531612 0.15003049 0.15064037\n",
            " 0.14860744 0.14596463 0.15043708 0.14413499 0.12441553 0.12827811\n",
            " 0.11547062 0.12034966 0.13478349 0.13498679 0.12868469 0.13295385\n",
            " 0.12807481 0.12624517 0.13051433 0.13905265 0.14718439 0.15104696\n",
            " 0.14515145 0.14311852 0.15816223 0.15328319 0.14921732 0.15531612\n",
            " 0.15917869 0.15938199 0.16344786 0.16360827 0.16557148 0.1670998\n",
            " 0.16842933 0.16967441 0.17088696 0.17208704 0.17327957 0.17446271\n",
            " 0.17563227 0.17678399 0.17791444 0.17902099]\n",
            "13 day output [[0.18010204]]\n",
            "14 day input [0.17198618 0.16548079 0.17625534 0.17564546 0.19129904 0.20817239\n",
            " 0.20309006 0.18479366 0.17930474 0.1896727  0.17483228 0.17849156\n",
            " 0.17645863 0.18540354 0.18377719 0.19190892 0.18987599 0.19028258\n",
            " 0.19394186 0.20004066 0.19638138 0.19495832 0.20349665 0.19597479\n",
            " 0.21162838 0.22036999 0.20979874 0.21528766 0.21589754 0.21610083\n",
            " 0.22748526 0.19150234 0.1833706  0.17340923 0.16751372 0.1622281\n",
            " 0.17056312 0.17462899 0.17930474 0.18174426 0.16853019 0.16548079\n",
            " 0.1742224  0.1713763  0.17300264 0.17157959 0.17767839 0.18459036\n",
            " 0.18702988 0.18987599 0.19109575 0.18581012 0.17015654 0.16751372\n",
            " 0.16974995 0.16609067 0.15531612 0.15003049 0.15064037 0.14860744\n",
            " 0.14596463 0.15043708 0.14413499 0.12441553 0.12827811 0.11547062\n",
            " 0.12034966 0.13478349 0.13498679 0.12868469 0.13295385 0.12807481\n",
            " 0.12624517 0.13051433 0.13905265 0.14718439 0.15104696 0.14515145\n",
            " 0.14311852 0.15816223 0.15328319 0.14921732 0.15531612 0.15917869\n",
            " 0.15938199 0.16344786 0.16360827 0.16557148 0.1670998  0.16842933\n",
            " 0.16967441 0.17088696 0.17208704 0.17327957 0.17446271 0.17563227\n",
            " 0.17678399 0.17791444 0.17902099 0.18010204]\n",
            "14 day output [[0.18115678]]\n",
            "15 day input [0.16548079 0.17625534 0.17564546 0.19129904 0.20817239 0.20309006\n",
            " 0.18479366 0.17930474 0.1896727  0.17483228 0.17849156 0.17645863\n",
            " 0.18540354 0.18377719 0.19190892 0.18987599 0.19028258 0.19394186\n",
            " 0.20004066 0.19638138 0.19495832 0.20349665 0.19597479 0.21162838\n",
            " 0.22036999 0.20979874 0.21528766 0.21589754 0.21610083 0.22748526\n",
            " 0.19150234 0.1833706  0.17340923 0.16751372 0.1622281  0.17056312\n",
            " 0.17462899 0.17930474 0.18174426 0.16853019 0.16548079 0.1742224\n",
            " 0.1713763  0.17300264 0.17157959 0.17767839 0.18459036 0.18702988\n",
            " 0.18987599 0.19109575 0.18581012 0.17015654 0.16751372 0.16974995\n",
            " 0.16609067 0.15531612 0.15003049 0.15064037 0.14860744 0.14596463\n",
            " 0.15043708 0.14413499 0.12441553 0.12827811 0.11547062 0.12034966\n",
            " 0.13478349 0.13498679 0.12868469 0.13295385 0.12807481 0.12624517\n",
            " 0.13051433 0.13905265 0.14718439 0.15104696 0.14515145 0.14311852\n",
            " 0.15816223 0.15328319 0.14921732 0.15531612 0.15917869 0.15938199\n",
            " 0.16344786 0.16360827 0.16557148 0.1670998  0.16842933 0.16967441\n",
            " 0.17088696 0.17208704 0.17327957 0.17446271 0.17563227 0.17678399\n",
            " 0.17791444 0.17902099 0.18010204 0.18115678]\n",
            "15 day output [[0.18218508]]\n",
            "16 day input [0.17625534 0.17564546 0.19129904 0.20817239 0.20309006 0.18479366\n",
            " 0.17930474 0.1896727  0.17483228 0.17849156 0.17645863 0.18540354\n",
            " 0.18377719 0.19190892 0.18987599 0.19028258 0.19394186 0.20004066\n",
            " 0.19638138 0.19495832 0.20349665 0.19597479 0.21162838 0.22036999\n",
            " 0.20979874 0.21528766 0.21589754 0.21610083 0.22748526 0.19150234\n",
            " 0.1833706  0.17340923 0.16751372 0.1622281  0.17056312 0.17462899\n",
            " 0.17930474 0.18174426 0.16853019 0.16548079 0.1742224  0.1713763\n",
            " 0.17300264 0.17157959 0.17767839 0.18459036 0.18702988 0.18987599\n",
            " 0.19109575 0.18581012 0.17015654 0.16751372 0.16974995 0.16609067\n",
            " 0.15531612 0.15003049 0.15064037 0.14860744 0.14596463 0.15043708\n",
            " 0.14413499 0.12441553 0.12827811 0.11547062 0.12034966 0.13478349\n",
            " 0.13498679 0.12868469 0.13295385 0.12807481 0.12624517 0.13051433\n",
            " 0.13905265 0.14718439 0.15104696 0.14515145 0.14311852 0.15816223\n",
            " 0.15328319 0.14921732 0.15531612 0.15917869 0.15938199 0.16344786\n",
            " 0.16360827 0.16557148 0.1670998  0.16842933 0.16967441 0.17088696\n",
            " 0.17208704 0.17327957 0.17446271 0.17563227 0.17678399 0.17791444\n",
            " 0.17902099 0.18010204 0.18115678 0.18218508]\n",
            "16 day output [[0.18318717]]\n",
            "17 day input [0.17564546 0.19129904 0.20817239 0.20309006 0.18479366 0.17930474\n",
            " 0.1896727  0.17483228 0.17849156 0.17645863 0.18540354 0.18377719\n",
            " 0.19190892 0.18987599 0.19028258 0.19394186 0.20004066 0.19638138\n",
            " 0.19495832 0.20349665 0.19597479 0.21162838 0.22036999 0.20979874\n",
            " 0.21528766 0.21589754 0.21610083 0.22748526 0.19150234 0.1833706\n",
            " 0.17340923 0.16751372 0.1622281  0.17056312 0.17462899 0.17930474\n",
            " 0.18174426 0.16853019 0.16548079 0.1742224  0.1713763  0.17300264\n",
            " 0.17157959 0.17767839 0.18459036 0.18702988 0.18987599 0.19109575\n",
            " 0.18581012 0.17015654 0.16751372 0.16974995 0.16609067 0.15531612\n",
            " 0.15003049 0.15064037 0.14860744 0.14596463 0.15043708 0.14413499\n",
            " 0.12441553 0.12827811 0.11547062 0.12034966 0.13478349 0.13498679\n",
            " 0.12868469 0.13295385 0.12807481 0.12624517 0.13051433 0.13905265\n",
            " 0.14718439 0.15104696 0.14515145 0.14311852 0.15816223 0.15328319\n",
            " 0.14921732 0.15531612 0.15917869 0.15938199 0.16344786 0.16360827\n",
            " 0.16557148 0.1670998  0.16842933 0.16967441 0.17088696 0.17208704\n",
            " 0.17327957 0.17446271 0.17563227 0.17678399 0.17791444 0.17902099\n",
            " 0.18010204 0.18115678 0.18218508 0.18318717]\n",
            "17 day output [[0.18416354]]\n",
            "18 day input [0.19129904 0.20817239 0.20309006 0.18479366 0.17930474 0.1896727\n",
            " 0.17483228 0.17849156 0.17645863 0.18540354 0.18377719 0.19190892\n",
            " 0.18987599 0.19028258 0.19394186 0.20004066 0.19638138 0.19495832\n",
            " 0.20349665 0.19597479 0.21162838 0.22036999 0.20979874 0.21528766\n",
            " 0.21589754 0.21610083 0.22748526 0.19150234 0.1833706  0.17340923\n",
            " 0.16751372 0.1622281  0.17056312 0.17462899 0.17930474 0.18174426\n",
            " 0.16853019 0.16548079 0.1742224  0.1713763  0.17300264 0.17157959\n",
            " 0.17767839 0.18459036 0.18702988 0.18987599 0.19109575 0.18581012\n",
            " 0.17015654 0.16751372 0.16974995 0.16609067 0.15531612 0.15003049\n",
            " 0.15064037 0.14860744 0.14596463 0.15043708 0.14413499 0.12441553\n",
            " 0.12827811 0.11547062 0.12034966 0.13478349 0.13498679 0.12868469\n",
            " 0.13295385 0.12807481 0.12624517 0.13051433 0.13905265 0.14718439\n",
            " 0.15104696 0.14515145 0.14311852 0.15816223 0.15328319 0.14921732\n",
            " 0.15531612 0.15917869 0.15938199 0.16344786 0.16360827 0.16557148\n",
            " 0.1670998  0.16842933 0.16967441 0.17088696 0.17208704 0.17327957\n",
            " 0.17446271 0.17563227 0.17678399 0.17791444 0.17902099 0.18010204\n",
            " 0.18115678 0.18218508 0.18318717 0.18416354]\n",
            "18 day output [[0.18511489]]\n",
            "19 day input [0.20817239 0.20309006 0.18479366 0.17930474 0.1896727  0.17483228\n",
            " 0.17849156 0.17645863 0.18540354 0.18377719 0.19190892 0.18987599\n",
            " 0.19028258 0.19394186 0.20004066 0.19638138 0.19495832 0.20349665\n",
            " 0.19597479 0.21162838 0.22036999 0.20979874 0.21528766 0.21589754\n",
            " 0.21610083 0.22748526 0.19150234 0.1833706  0.17340923 0.16751372\n",
            " 0.1622281  0.17056312 0.17462899 0.17930474 0.18174426 0.16853019\n",
            " 0.16548079 0.1742224  0.1713763  0.17300264 0.17157959 0.17767839\n",
            " 0.18459036 0.18702988 0.18987599 0.19109575 0.18581012 0.17015654\n",
            " 0.16751372 0.16974995 0.16609067 0.15531612 0.15003049 0.15064037\n",
            " 0.14860744 0.14596463 0.15043708 0.14413499 0.12441553 0.12827811\n",
            " 0.11547062 0.12034966 0.13478349 0.13498679 0.12868469 0.13295385\n",
            " 0.12807481 0.12624517 0.13051433 0.13905265 0.14718439 0.15104696\n",
            " 0.14515145 0.14311852 0.15816223 0.15328319 0.14921732 0.15531612\n",
            " 0.15917869 0.15938199 0.16344786 0.16360827 0.16557148 0.1670998\n",
            " 0.16842933 0.16967441 0.17088696 0.17208704 0.17327957 0.17446271\n",
            " 0.17563227 0.17678399 0.17791444 0.17902099 0.18010204 0.18115678\n",
            " 0.18218508 0.18318717 0.18416354 0.18511489]\n",
            "19 day output [[0.18604203]]\n",
            "20 day input [0.20309006 0.18479366 0.17930474 0.1896727  0.17483228 0.17849156\n",
            " 0.17645863 0.18540354 0.18377719 0.19190892 0.18987599 0.19028258\n",
            " 0.19394186 0.20004066 0.19638138 0.19495832 0.20349665 0.19597479\n",
            " 0.21162838 0.22036999 0.20979874 0.21528766 0.21589754 0.21610083\n",
            " 0.22748526 0.19150234 0.1833706  0.17340923 0.16751372 0.1622281\n",
            " 0.17056312 0.17462899 0.17930474 0.18174426 0.16853019 0.16548079\n",
            " 0.1742224  0.1713763  0.17300264 0.17157959 0.17767839 0.18459036\n",
            " 0.18702988 0.18987599 0.19109575 0.18581012 0.17015654 0.16751372\n",
            " 0.16974995 0.16609067 0.15531612 0.15003049 0.15064037 0.14860744\n",
            " 0.14596463 0.15043708 0.14413499 0.12441553 0.12827811 0.11547062\n",
            " 0.12034966 0.13478349 0.13498679 0.12868469 0.13295385 0.12807481\n",
            " 0.12624517 0.13051433 0.13905265 0.14718439 0.15104696 0.14515145\n",
            " 0.14311852 0.15816223 0.15328319 0.14921732 0.15531612 0.15917869\n",
            " 0.15938199 0.16344786 0.16360827 0.16557148 0.1670998  0.16842933\n",
            " 0.16967441 0.17088696 0.17208704 0.17327957 0.17446271 0.17563227\n",
            " 0.17678399 0.17791444 0.17902099 0.18010204 0.18115678 0.18218508\n",
            " 0.18318717 0.18416354 0.18511489 0.18604203]\n",
            "20 day output [[0.18694563]]\n",
            "21 day input [0.18479366 0.17930474 0.1896727  0.17483228 0.17849156 0.17645863\n",
            " 0.18540354 0.18377719 0.19190892 0.18987599 0.19028258 0.19394186\n",
            " 0.20004066 0.19638138 0.19495832 0.20349665 0.19597479 0.21162838\n",
            " 0.22036999 0.20979874 0.21528766 0.21589754 0.21610083 0.22748526\n",
            " 0.19150234 0.1833706  0.17340923 0.16751372 0.1622281  0.17056312\n",
            " 0.17462899 0.17930474 0.18174426 0.16853019 0.16548079 0.1742224\n",
            " 0.1713763  0.17300264 0.17157959 0.17767839 0.18459036 0.18702988\n",
            " 0.18987599 0.19109575 0.18581012 0.17015654 0.16751372 0.16974995\n",
            " 0.16609067 0.15531612 0.15003049 0.15064037 0.14860744 0.14596463\n",
            " 0.15043708 0.14413499 0.12441553 0.12827811 0.11547062 0.12034966\n",
            " 0.13478349 0.13498679 0.12868469 0.13295385 0.12807481 0.12624517\n",
            " 0.13051433 0.13905265 0.14718439 0.15104696 0.14515145 0.14311852\n",
            " 0.15816223 0.15328319 0.14921732 0.15531612 0.15917869 0.15938199\n",
            " 0.16344786 0.16360827 0.16557148 0.1670998  0.16842933 0.16967441\n",
            " 0.17088696 0.17208704 0.17327957 0.17446271 0.17563227 0.17678399\n",
            " 0.17791444 0.17902099 0.18010204 0.18115678 0.18218508 0.18318717\n",
            " 0.18416354 0.18511489 0.18604203 0.18694563]\n",
            "21 day output [[0.1878266]]\n",
            "22 day input [0.17930474 0.1896727  0.17483228 0.17849156 0.17645863 0.18540354\n",
            " 0.18377719 0.19190892 0.18987599 0.19028258 0.19394186 0.20004066\n",
            " 0.19638138 0.19495832 0.20349665 0.19597479 0.21162838 0.22036999\n",
            " 0.20979874 0.21528766 0.21589754 0.21610083 0.22748526 0.19150234\n",
            " 0.1833706  0.17340923 0.16751372 0.1622281  0.17056312 0.17462899\n",
            " 0.17930474 0.18174426 0.16853019 0.16548079 0.1742224  0.1713763\n",
            " 0.17300264 0.17157959 0.17767839 0.18459036 0.18702988 0.18987599\n",
            " 0.19109575 0.18581012 0.17015654 0.16751372 0.16974995 0.16609067\n",
            " 0.15531612 0.15003049 0.15064037 0.14860744 0.14596463 0.15043708\n",
            " 0.14413499 0.12441553 0.12827811 0.11547062 0.12034966 0.13478349\n",
            " 0.13498679 0.12868469 0.13295385 0.12807481 0.12624517 0.13051433\n",
            " 0.13905265 0.14718439 0.15104696 0.14515145 0.14311852 0.15816223\n",
            " 0.15328319 0.14921732 0.15531612 0.15917869 0.15938199 0.16344786\n",
            " 0.16360827 0.16557148 0.1670998  0.16842933 0.16967441 0.17088696\n",
            " 0.17208704 0.17327957 0.17446271 0.17563227 0.17678399 0.17791444\n",
            " 0.17902099 0.18010204 0.18115678 0.18218508 0.18318717 0.18416354\n",
            " 0.18511489 0.18604203 0.18694563 0.1878266 ]\n",
            "22 day output [[0.18868554]]\n",
            "23 day input [0.1896727  0.17483228 0.17849156 0.17645863 0.18540354 0.18377719\n",
            " 0.19190892 0.18987599 0.19028258 0.19394186 0.20004066 0.19638138\n",
            " 0.19495832 0.20349665 0.19597479 0.21162838 0.22036999 0.20979874\n",
            " 0.21528766 0.21589754 0.21610083 0.22748526 0.19150234 0.1833706\n",
            " 0.17340923 0.16751372 0.1622281  0.17056312 0.17462899 0.17930474\n",
            " 0.18174426 0.16853019 0.16548079 0.1742224  0.1713763  0.17300264\n",
            " 0.17157959 0.17767839 0.18459036 0.18702988 0.18987599 0.19109575\n",
            " 0.18581012 0.17015654 0.16751372 0.16974995 0.16609067 0.15531612\n",
            " 0.15003049 0.15064037 0.14860744 0.14596463 0.15043708 0.14413499\n",
            " 0.12441553 0.12827811 0.11547062 0.12034966 0.13478349 0.13498679\n",
            " 0.12868469 0.13295385 0.12807481 0.12624517 0.13051433 0.13905265\n",
            " 0.14718439 0.15104696 0.14515145 0.14311852 0.15816223 0.15328319\n",
            " 0.14921732 0.15531612 0.15917869 0.15938199 0.16344786 0.16360827\n",
            " 0.16557148 0.1670998  0.16842933 0.16967441 0.17088696 0.17208704\n",
            " 0.17327957 0.17446271 0.17563227 0.17678399 0.17791444 0.17902099\n",
            " 0.18010204 0.18115678 0.18218508 0.18318717 0.18416354 0.18511489\n",
            " 0.18604203 0.18694563 0.1878266  0.18868554]\n",
            "23 day output [[0.18952331]]\n",
            "24 day input [0.17483228 0.17849156 0.17645863 0.18540354 0.18377719 0.19190892\n",
            " 0.18987599 0.19028258 0.19394186 0.20004066 0.19638138 0.19495832\n",
            " 0.20349665 0.19597479 0.21162838 0.22036999 0.20979874 0.21528766\n",
            " 0.21589754 0.21610083 0.22748526 0.19150234 0.1833706  0.17340923\n",
            " 0.16751372 0.1622281  0.17056312 0.17462899 0.17930474 0.18174426\n",
            " 0.16853019 0.16548079 0.1742224  0.1713763  0.17300264 0.17157959\n",
            " 0.17767839 0.18459036 0.18702988 0.18987599 0.19109575 0.18581012\n",
            " 0.17015654 0.16751372 0.16974995 0.16609067 0.15531612 0.15003049\n",
            " 0.15064037 0.14860744 0.14596463 0.15043708 0.14413499 0.12441553\n",
            " 0.12827811 0.11547062 0.12034966 0.13478349 0.13498679 0.12868469\n",
            " 0.13295385 0.12807481 0.12624517 0.13051433 0.13905265 0.14718439\n",
            " 0.15104696 0.14515145 0.14311852 0.15816223 0.15328319 0.14921732\n",
            " 0.15531612 0.15917869 0.15938199 0.16344786 0.16360827 0.16557148\n",
            " 0.1670998  0.16842933 0.16967441 0.17088696 0.17208704 0.17327957\n",
            " 0.17446271 0.17563227 0.17678399 0.17791444 0.17902099 0.18010204\n",
            " 0.18115678 0.18218508 0.18318717 0.18416354 0.18511489 0.18604203\n",
            " 0.18694563 0.1878266  0.18868554 0.18952331]\n",
            "24 day output [[0.19034036]]\n",
            "25 day input [0.17849156 0.17645863 0.18540354 0.18377719 0.19190892 0.18987599\n",
            " 0.19028258 0.19394186 0.20004066 0.19638138 0.19495832 0.20349665\n",
            " 0.19597479 0.21162838 0.22036999 0.20979874 0.21528766 0.21589754\n",
            " 0.21610083 0.22748526 0.19150234 0.1833706  0.17340923 0.16751372\n",
            " 0.1622281  0.17056312 0.17462899 0.17930474 0.18174426 0.16853019\n",
            " 0.16548079 0.1742224  0.1713763  0.17300264 0.17157959 0.17767839\n",
            " 0.18459036 0.18702988 0.18987599 0.19109575 0.18581012 0.17015654\n",
            " 0.16751372 0.16974995 0.16609067 0.15531612 0.15003049 0.15064037\n",
            " 0.14860744 0.14596463 0.15043708 0.14413499 0.12441553 0.12827811\n",
            " 0.11547062 0.12034966 0.13478349 0.13498679 0.12868469 0.13295385\n",
            " 0.12807481 0.12624517 0.13051433 0.13905265 0.14718439 0.15104696\n",
            " 0.14515145 0.14311852 0.15816223 0.15328319 0.14921732 0.15531612\n",
            " 0.15917869 0.15938199 0.16344786 0.16360827 0.16557148 0.1670998\n",
            " 0.16842933 0.16967441 0.17088696 0.17208704 0.17327957 0.17446271\n",
            " 0.17563227 0.17678399 0.17791444 0.17902099 0.18010204 0.18115678\n",
            " 0.18218508 0.18318717 0.18416354 0.18511489 0.18604203 0.18694563\n",
            " 0.1878266  0.18868554 0.18952331 0.19034036]\n",
            "25 day output [[0.19113745]]\n",
            "26 day input [0.17645863 0.18540354 0.18377719 0.19190892 0.18987599 0.19028258\n",
            " 0.19394186 0.20004066 0.19638138 0.19495832 0.20349665 0.19597479\n",
            " 0.21162838 0.22036999 0.20979874 0.21528766 0.21589754 0.21610083\n",
            " 0.22748526 0.19150234 0.1833706  0.17340923 0.16751372 0.1622281\n",
            " 0.17056312 0.17462899 0.17930474 0.18174426 0.16853019 0.16548079\n",
            " 0.1742224  0.1713763  0.17300264 0.17157959 0.17767839 0.18459036\n",
            " 0.18702988 0.18987599 0.19109575 0.18581012 0.17015654 0.16751372\n",
            " 0.16974995 0.16609067 0.15531612 0.15003049 0.15064037 0.14860744\n",
            " 0.14596463 0.15043708 0.14413499 0.12441553 0.12827811 0.11547062\n",
            " 0.12034966 0.13478349 0.13498679 0.12868469 0.13295385 0.12807481\n",
            " 0.12624517 0.13051433 0.13905265 0.14718439 0.15104696 0.14515145\n",
            " 0.14311852 0.15816223 0.15328319 0.14921732 0.15531612 0.15917869\n",
            " 0.15938199 0.16344786 0.16360827 0.16557148 0.1670998  0.16842933\n",
            " 0.16967441 0.17088696 0.17208704 0.17327957 0.17446271 0.17563227\n",
            " 0.17678399 0.17791444 0.17902099 0.18010204 0.18115678 0.18218508\n",
            " 0.18318717 0.18416354 0.18511489 0.18604203 0.18694563 0.1878266\n",
            " 0.18868554 0.18952331 0.19034036 0.19113745]\n",
            "26 day output [[0.19191514]]\n",
            "27 day input [0.18540354 0.18377719 0.19190892 0.18987599 0.19028258 0.19394186\n",
            " 0.20004066 0.19638138 0.19495832 0.20349665 0.19597479 0.21162838\n",
            " 0.22036999 0.20979874 0.21528766 0.21589754 0.21610083 0.22748526\n",
            " 0.19150234 0.1833706  0.17340923 0.16751372 0.1622281  0.17056312\n",
            " 0.17462899 0.17930474 0.18174426 0.16853019 0.16548079 0.1742224\n",
            " 0.1713763  0.17300264 0.17157959 0.17767839 0.18459036 0.18702988\n",
            " 0.18987599 0.19109575 0.18581012 0.17015654 0.16751372 0.16974995\n",
            " 0.16609067 0.15531612 0.15003049 0.15064037 0.14860744 0.14596463\n",
            " 0.15043708 0.14413499 0.12441553 0.12827811 0.11547062 0.12034966\n",
            " 0.13478349 0.13498679 0.12868469 0.13295385 0.12807481 0.12624517\n",
            " 0.13051433 0.13905265 0.14718439 0.15104696 0.14515145 0.14311852\n",
            " 0.15816223 0.15328319 0.14921732 0.15531612 0.15917869 0.15938199\n",
            " 0.16344786 0.16360827 0.16557148 0.1670998  0.16842933 0.16967441\n",
            " 0.17088696 0.17208704 0.17327957 0.17446271 0.17563227 0.17678399\n",
            " 0.17791444 0.17902099 0.18010204 0.18115678 0.18218508 0.18318717\n",
            " 0.18416354 0.18511489 0.18604203 0.18694563 0.1878266  0.18868554\n",
            " 0.18952331 0.19034036 0.19113745 0.19191514]\n",
            "27 day output [[0.19267389]]\n",
            "28 day input [0.18377719 0.19190892 0.18987599 0.19028258 0.19394186 0.20004066\n",
            " 0.19638138 0.19495832 0.20349665 0.19597479 0.21162838 0.22036999\n",
            " 0.20979874 0.21528766 0.21589754 0.21610083 0.22748526 0.19150234\n",
            " 0.1833706  0.17340923 0.16751372 0.1622281  0.17056312 0.17462899\n",
            " 0.17930474 0.18174426 0.16853019 0.16548079 0.1742224  0.1713763\n",
            " 0.17300264 0.17157959 0.17767839 0.18459036 0.18702988 0.18987599\n",
            " 0.19109575 0.18581012 0.17015654 0.16751372 0.16974995 0.16609067\n",
            " 0.15531612 0.15003049 0.15064037 0.14860744 0.14596463 0.15043708\n",
            " 0.14413499 0.12441553 0.12827811 0.11547062 0.12034966 0.13478349\n",
            " 0.13498679 0.12868469 0.13295385 0.12807481 0.12624517 0.13051433\n",
            " 0.13905265 0.14718439 0.15104696 0.14515145 0.14311852 0.15816223\n",
            " 0.15328319 0.14921732 0.15531612 0.15917869 0.15938199 0.16344786\n",
            " 0.16360827 0.16557148 0.1670998  0.16842933 0.16967441 0.17088696\n",
            " 0.17208704 0.17327957 0.17446271 0.17563227 0.17678399 0.17791444\n",
            " 0.17902099 0.18010204 0.18115678 0.18218508 0.18318717 0.18416354\n",
            " 0.18511489 0.18604203 0.18694563 0.1878266  0.18868554 0.18952331\n",
            " 0.19034036 0.19113745 0.19191514 0.19267389]\n",
            "28 day output [[0.19341427]]\n",
            "29 day input [0.19190892 0.18987599 0.19028258 0.19394186 0.20004066 0.19638138\n",
            " 0.19495832 0.20349665 0.19597479 0.21162838 0.22036999 0.20979874\n",
            " 0.21528766 0.21589754 0.21610083 0.22748526 0.19150234 0.1833706\n",
            " 0.17340923 0.16751372 0.1622281  0.17056312 0.17462899 0.17930474\n",
            " 0.18174426 0.16853019 0.16548079 0.1742224  0.1713763  0.17300264\n",
            " 0.17157959 0.17767839 0.18459036 0.18702988 0.18987599 0.19109575\n",
            " 0.18581012 0.17015654 0.16751372 0.16974995 0.16609067 0.15531612\n",
            " 0.15003049 0.15064037 0.14860744 0.14596463 0.15043708 0.14413499\n",
            " 0.12441553 0.12827811 0.11547062 0.12034966 0.13478349 0.13498679\n",
            " 0.12868469 0.13295385 0.12807481 0.12624517 0.13051433 0.13905265\n",
            " 0.14718439 0.15104696 0.14515145 0.14311852 0.15816223 0.15328319\n",
            " 0.14921732 0.15531612 0.15917869 0.15938199 0.16344786 0.16360827\n",
            " 0.16557148 0.1670998  0.16842933 0.16967441 0.17088696 0.17208704\n",
            " 0.17327957 0.17446271 0.17563227 0.17678399 0.17791444 0.17902099\n",
            " 0.18010204 0.18115678 0.18218508 0.18318717 0.18416354 0.18511489\n",
            " 0.18604203 0.18694563 0.1878266  0.18868554 0.18952331 0.19034036\n",
            " 0.19113745 0.19191514 0.19267389 0.19341427]\n",
            "29 day output [[0.19413681]]\n",
            "[[0.16360826790332794], [0.16557148098945618], [0.16709980368614197], [0.16842932999134064], [0.16967441141605377], [0.17088696360588074], [0.17208704352378845], [0.1732795685529709], [0.1744627058506012], [0.1756322681903839], [0.1767839938402176], [0.17791444063186646], [0.1790209859609604], [0.18010203540325165], [0.18115678429603577], [0.1821850836277008], [0.18318717181682587], [0.18416354060173035], [0.18511489033699036], [0.18604202568531036], [0.18694563210010529], [0.18782660365104675], [0.18868553638458252], [0.18952330946922302], [0.19034035503864288], [0.19113744795322418], [0.1919151395559311], [0.19267389178276062], [0.19341427087783813], [0.1941368132829666]]\n"
          ]
        }
      ]
    },
    {
      "cell_type": "code",
      "source": [
        "day_new = np.arange(1, 101)\n",
        "day_pred = np.arange(101, 131)"
      ],
      "metadata": {
        "id": "nkOodFaxlWas"
      },
      "execution_count": 31,
      "outputs": []
    },
    {
      "cell_type": "code",
      "source": [
        "day_new.shape\n"
      ],
      "metadata": {
        "colab": {
          "base_uri": "https://localhost:8080/"
        },
        "id": "DjkeHBCjll4G",
        "outputId": "1f2cdae1-32ea-4cb9-94d5-9e985723c371"
      },
      "execution_count": 32,
      "outputs": [
        {
          "output_type": "execute_result",
          "data": {
            "text/plain": [
              "(100,)"
            ]
          },
          "metadata": {},
          "execution_count": 32
        }
      ]
    },
    {
      "cell_type": "code",
      "source": [
        "day_pred.shape"
      ],
      "metadata": {
        "colab": {
          "base_uri": "https://localhost:8080/"
        },
        "id": "L-S5kv_pnEul",
        "outputId": "20bac121-c219-43b6-a603-63faf56a26aa"
      },
      "execution_count": 33,
      "outputs": [
        {
          "output_type": "execute_result",
          "data": {
            "text/plain": [
              "(30,)"
            ]
          },
          "metadata": {},
          "execution_count": 33
        }
      ]
    },
    {
      "cell_type": "code",
      "source": [
        "len(df_high)"
      ],
      "metadata": {
        "colab": {
          "base_uri": "https://localhost:8080/"
        },
        "id": "qVG1QLlFnIZ0",
        "outputId": "00b352a5-0f28-492e-932b-8e0d409695f1"
      },
      "execution_count": 34,
      "outputs": [
        {
          "output_type": "execute_result",
          "data": {
            "text/plain": [
              "2035"
            ]
          },
          "metadata": {},
          "execution_count": 34
        }
      ]
    },
    {
      "cell_type": "markdown",
      "source": [
        "### *Graph of actual values in last 100 days*"
      ],
      "metadata": {
        "id": "iZHjhHGfn27U"
      }
    },
    {
      "cell_type": "code",
      "source": [
        "plt.plot(day_new, scaler.inverse_transform(df_high[1935:]),label='100 day previous data')\n",
        "plt.plot(day_pred, scaler.inverse_transform(lst_output))\n",
        "plt.legend()"
      ],
      "metadata": {
        "colab": {
          "base_uri": "https://localhost:8080/",
          "height": 452
        },
        "id": "XAeDb8CmmKTo",
        "outputId": "595d07e9-6d97-41bc-c3b1-1c6b92b9373e"
      },
      "execution_count": 35,
      "outputs": [
        {
          "output_type": "execute_result",
          "data": {
            "text/plain": [
              "<matplotlib.legend.Legend at 0x7e0d8867be20>"
            ]
          },
          "metadata": {},
          "execution_count": 35
        },
        {
          "output_type": "display_data",
          "data": {
            "text/plain": [
              "<Figure size 640x480 with 1 Axes>"
            ],
            "image/png": "[encoded data removed]"
          },
          "metadata": {}
        }
      ]
    },
    {
      "cell_type": "code",
      "source": [
        "data_new = df_high.tolist()\n",
        "data_new.extend(lst_output)\n",
        "plt.plot(scaler.inverse_transform(data_new[1990:]),c='m',label='prediction for 30 days')\n",
        "plt.legend()"
      ],
      "metadata": {
        "colab": {
          "base_uri": "https://localhost:8080/",
          "height": 448
        },
        "id": "rWst7y0Cnwxm",
        "outputId": "dae24e85-5648-4259-e9cc-802dd439485b"
      },
      "execution_count": 47,
      "outputs": [
        {
          "output_type": "execute_result",
          "data": {
            "text/plain": [
              "<matplotlib.legend.Legend at 0x7e0d7bfe44f0>"
            ]
          },
          "metadata": {},
          "execution_count": 47
        },
        {
          "output_type": "display_data",
          "data": {
            "text/plain": [
              "<Figure size 640x480 with 1 Axes>"
            ],
            "image/png": "[encoded data removed]"
          },
          "metadata": {}
        }
      ]
    },
    {
      "cell_type": "code",
      "source": [
        "#data_new =scaler.inverse_transform(data_new).tolist()\n",
        "#plt.plot(data_new)"
      ],
      "metadata": {
        "id": "1vZHc-ORlPjj"
      },
      "execution_count": 48,
      "outputs": []
    },
    {
      "cell_type": "markdown",
      "source": [
        "### **Total 131 days data merged graph**"
      ],
      "metadata": {
        "id": "QpR8KXyEpHl7"
      }
    },
    {
      "cell_type": "code",
      "source": [
        "plt.plot(day_new-100, scaler.inverse_transform(df_high[1935:]),label='100 day previous data')\n",
        "plt.plot(scaler.inverse_transform(data_new[1990:]),c='m',label='prediction for 30 days')\n",
        "#plt.plot(day_pred, scaler.inverse_transform(lst_output))\n",
        "plt.legend()"
      ],
      "metadata": {
        "colab": {
          "base_uri": "https://localhost:8080/",
          "height": 452
        },
        "id": "I_iGqPyuobeI",
        "outputId": "45e0d181-526f-4070-a17e-e1db111fb89d"
      },
      "execution_count": 50,
      "outputs": [
        {
          "output_type": "execute_result",
          "data": {
            "text/plain": [
              "<matplotlib.legend.Legend at 0x7e0d7667f820>"
            ]
          },
          "metadata": {},
          "execution_count": 50
        },
        {
          "output_type": "display_data",
          "data": {
            "text/plain": [
              "<Figure size 640x480 with 1 Axes>"
            ],
            "image/png": "[encoded data removed]"
          },
          "metadata": {}
        }
      ]
    },
    {
      "cell_type": "markdown",
      "source": [
        "\n",
        "\n",
        "*   Finally we plot the graph for visual understanding of the data and how well our model is able to predict the data.\n",
        "*   n the plotted curves we can see that the Trained Model almost accurately overlapes on the Real Dataset curve and the untrained Test Data is also fitting the curve quiet well . So in conclusion we can say that our model is quiet Successfully predicting the stock prizes.\n",
        "\n"
      ],
      "metadata": {
        "id": "U0yfX7UfoYhR"
      }
    }
  ]
}